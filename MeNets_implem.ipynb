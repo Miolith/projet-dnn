{
 "cells": [
  {
   "cell_type": "code",
   "execution_count": 1,
   "metadata": {
    "id": "BpfdyHh87GxP"
   },
   "outputs": [],
   "source": [
    "import torchvision.models as models\n",
    "from torchvision.models.resnet import ResNet18_Weights\n",
    "import torch\n",
    "from torch import nn\n",
    "import numpy as np\n",
    "import matplotlib.pyplot as plt\n",
    "import torchvision.transforms as transforms\n",
    "import pandas as pd"
   ]
  },
  {
   "cell_type": "code",
   "execution_count": 2,
   "metadata": {
    "id": "_k12BL8r1PEX"
   },
   "outputs": [],
   "source": [
    "resnet = models.resnet18(weights=ResNet18_Weights.IMAGENET1K_V1)\n",
    "resnet.fc = nn.Sequential(nn.Flatten(), nn.Dropout(0.5))"
   ]
  },
  {
   "cell_type": "code",
   "execution_count": 3,
   "metadata": {
    "colab": {
     "base_uri": "https://localhost:8080/"
    },
    "id": "Wul5oIld-wLK",
    "outputId": "c0da648e-5323-4c42-a000-8ce6ca2fd073"
   },
   "outputs": [
    {
     "data": {
      "text/plain": [
       "ResNet(\n",
       "  (conv1): Conv2d(3, 64, kernel_size=(7, 7), stride=(2, 2), padding=(3, 3), bias=False)\n",
       "  (bn1): BatchNorm2d(64, eps=1e-05, momentum=0.1, affine=True, track_running_stats=True)\n",
       "  (relu): ReLU(inplace=True)\n",
       "  (maxpool): MaxPool2d(kernel_size=3, stride=2, padding=1, dilation=1, ceil_mode=False)\n",
       "  (layer1): Sequential(\n",
       "    (0): BasicBlock(\n",
       "      (conv1): Conv2d(64, 64, kernel_size=(3, 3), stride=(1, 1), padding=(1, 1), bias=False)\n",
       "      (bn1): BatchNorm2d(64, eps=1e-05, momentum=0.1, affine=True, track_running_stats=True)\n",
       "      (relu): ReLU(inplace=True)\n",
       "      (conv2): Conv2d(64, 64, kernel_size=(3, 3), stride=(1, 1), padding=(1, 1), bias=False)\n",
       "      (bn2): BatchNorm2d(64, eps=1e-05, momentum=0.1, affine=True, track_running_stats=True)\n",
       "    )\n",
       "    (1): BasicBlock(\n",
       "      (conv1): Conv2d(64, 64, kernel_size=(3, 3), stride=(1, 1), padding=(1, 1), bias=False)\n",
       "      (bn1): BatchNorm2d(64, eps=1e-05, momentum=0.1, affine=True, track_running_stats=True)\n",
       "      (relu): ReLU(inplace=True)\n",
       "      (conv2): Conv2d(64, 64, kernel_size=(3, 3), stride=(1, 1), padding=(1, 1), bias=False)\n",
       "      (bn2): BatchNorm2d(64, eps=1e-05, momentum=0.1, affine=True, track_running_stats=True)\n",
       "    )\n",
       "  )\n",
       "  (layer2): Sequential(\n",
       "    (0): BasicBlock(\n",
       "      (conv1): Conv2d(64, 128, kernel_size=(3, 3), stride=(2, 2), padding=(1, 1), bias=False)\n",
       "      (bn1): BatchNorm2d(128, eps=1e-05, momentum=0.1, affine=True, track_running_stats=True)\n",
       "      (relu): ReLU(inplace=True)\n",
       "      (conv2): Conv2d(128, 128, kernel_size=(3, 3), stride=(1, 1), padding=(1, 1), bias=False)\n",
       "      (bn2): BatchNorm2d(128, eps=1e-05, momentum=0.1, affine=True, track_running_stats=True)\n",
       "      (downsample): Sequential(\n",
       "        (0): Conv2d(64, 128, kernel_size=(1, 1), stride=(2, 2), bias=False)\n",
       "        (1): BatchNorm2d(128, eps=1e-05, momentum=0.1, affine=True, track_running_stats=True)\n",
       "      )\n",
       "    )\n",
       "    (1): BasicBlock(\n",
       "      (conv1): Conv2d(128, 128, kernel_size=(3, 3), stride=(1, 1), padding=(1, 1), bias=False)\n",
       "      (bn1): BatchNorm2d(128, eps=1e-05, momentum=0.1, affine=True, track_running_stats=True)\n",
       "      (relu): ReLU(inplace=True)\n",
       "      (conv2): Conv2d(128, 128, kernel_size=(3, 3), stride=(1, 1), padding=(1, 1), bias=False)\n",
       "      (bn2): BatchNorm2d(128, eps=1e-05, momentum=0.1, affine=True, track_running_stats=True)\n",
       "    )\n",
       "  )\n",
       "  (layer3): Sequential(\n",
       "    (0): BasicBlock(\n",
       "      (conv1): Conv2d(128, 256, kernel_size=(3, 3), stride=(2, 2), padding=(1, 1), bias=False)\n",
       "      (bn1): BatchNorm2d(256, eps=1e-05, momentum=0.1, affine=True, track_running_stats=True)\n",
       "      (relu): ReLU(inplace=True)\n",
       "      (conv2): Conv2d(256, 256, kernel_size=(3, 3), stride=(1, 1), padding=(1, 1), bias=False)\n",
       "      (bn2): BatchNorm2d(256, eps=1e-05, momentum=0.1, affine=True, track_running_stats=True)\n",
       "      (downsample): Sequential(\n",
       "        (0): Conv2d(128, 256, kernel_size=(1, 1), stride=(2, 2), bias=False)\n",
       "        (1): BatchNorm2d(256, eps=1e-05, momentum=0.1, affine=True, track_running_stats=True)\n",
       "      )\n",
       "    )\n",
       "    (1): BasicBlock(\n",
       "      (conv1): Conv2d(256, 256, kernel_size=(3, 3), stride=(1, 1), padding=(1, 1), bias=False)\n",
       "      (bn1): BatchNorm2d(256, eps=1e-05, momentum=0.1, affine=True, track_running_stats=True)\n",
       "      (relu): ReLU(inplace=True)\n",
       "      (conv2): Conv2d(256, 256, kernel_size=(3, 3), stride=(1, 1), padding=(1, 1), bias=False)\n",
       "      (bn2): BatchNorm2d(256, eps=1e-05, momentum=0.1, affine=True, track_running_stats=True)\n",
       "    )\n",
       "  )\n",
       "  (layer4): Sequential(\n",
       "    (0): BasicBlock(\n",
       "      (conv1): Conv2d(256, 512, kernel_size=(3, 3), stride=(2, 2), padding=(1, 1), bias=False)\n",
       "      (bn1): BatchNorm2d(512, eps=1e-05, momentum=0.1, affine=True, track_running_stats=True)\n",
       "      (relu): ReLU(inplace=True)\n",
       "      (conv2): Conv2d(512, 512, kernel_size=(3, 3), stride=(1, 1), padding=(1, 1), bias=False)\n",
       "      (bn2): BatchNorm2d(512, eps=1e-05, momentum=0.1, affine=True, track_running_stats=True)\n",
       "      (downsample): Sequential(\n",
       "        (0): Conv2d(256, 512, kernel_size=(1, 1), stride=(2, 2), bias=False)\n",
       "        (1): BatchNorm2d(512, eps=1e-05, momentum=0.1, affine=True, track_running_stats=True)\n",
       "      )\n",
       "    )\n",
       "    (1): BasicBlock(\n",
       "      (conv1): Conv2d(512, 512, kernel_size=(3, 3), stride=(1, 1), padding=(1, 1), bias=False)\n",
       "      (bn1): BatchNorm2d(512, eps=1e-05, momentum=0.1, affine=True, track_running_stats=True)\n",
       "      (relu): ReLU(inplace=True)\n",
       "      (conv2): Conv2d(512, 512, kernel_size=(3, 3), stride=(1, 1), padding=(1, 1), bias=False)\n",
       "      (bn2): BatchNorm2d(512, eps=1e-05, momentum=0.1, affine=True, track_running_stats=True)\n",
       "    )\n",
       "  )\n",
       "  (avgpool): AdaptiveAvgPool2d(output_size=(1, 1))\n",
       "  (fc): Sequential(\n",
       "    (0): Flatten(start_dim=1, end_dim=-1)\n",
       "    (1): Dropout(p=0.5, inplace=False)\n",
       "  )\n",
       ")"
      ]
     },
     "execution_count": 3,
     "metadata": {},
     "output_type": "execute_result"
    }
   ],
   "source": [
    "resnet"
   ]
  },
  {
   "cell_type": "code",
   "execution_count": 4,
   "metadata": {
    "colab": {
     "base_uri": "https://localhost:8080/",
     "height": 251
    },
    "id": "PC8OiZ-eCJcC",
    "outputId": "0cf8586b-1810-4467-e0c6-5fcbac1c214f"
   },
   "outputs": [
    {
     "data": {
      "image/png": "[encoded data removed]",
      "text/plain": [
       "<PIL.BmpImagePlugin.BmpImageFile image mode=L size=60x36>"
      ]
     },
     "metadata": {},
     "output_type": "display_data"
    },
    {
     "data": {
      "image/png": "[encoded data removed]",
      "text/plain": [
       "<PIL.BmpImagePlugin.BmpImageFile image mode=L size=60x36>"
      ]
     },
     "metadata": {},
     "output_type": "display_data"
    },
    {
     "data": {
      "image/png": "[encoded data removed]",
      "text/plain": [
       "<PIL.BmpImagePlugin.BmpImageFile image mode=L size=60x36>"
      ]
     },
     "metadata": {},
     "output_type": "display_data"
    },
    {
     "data": {
      "image/png": "[encoded data removed]",
      "text/plain": [
       "<PIL.BmpImagePlugin.BmpImageFile image mode=L size=60x36>"
      ]
     },
     "metadata": {},
     "output_type": "display_data"
    },
    {
     "data": {
      "image/png": "[encoded data removed]",
      "text/plain": [
       "<PIL.BmpImagePlugin.BmpImageFile image mode=L size=60x36>"
      ]
     },
     "metadata": {},
     "output_type": "display_data"
    },
    {
     "data": {
      "image/png": "[encoded data removed]",
      "text/plain": [
       "<PIL.BmpImagePlugin.BmpImageFile image mode=L size=60x36>"
      ]
     },
     "metadata": {},
     "output_type": "display_data"
    },
    {
     "data": {
      "text/plain": [
       "[None, None, None, None, None, None]"
      ]
     },
     "execution_count": 4,
     "metadata": {},
     "output_type": "execute_result"
    }
   ],
   "source": [
    "from zipfile import ZipFile\n",
    "from PIL import Image\n",
    "from glob import glob\n",
    "\n",
    "image_list = []\n",
    "\n",
    "subject_num = 20\n",
    "batch_per_subject = 10\n",
    "\n",
    "subject_list = np.repeat(np.arange(subject_num),batch_per_subject)\n",
    "\n",
    "for data in glob(\"data/s*/synth/00[0-9]_left.zip\"):\n",
    "\n",
    "    with ZipFile(data) as archive:\n",
    "        image_list.append([])\n",
    "        for entry in archive.infolist():\n",
    "            \n",
    "            with archive.open(entry) as file:\n",
    "                img = Image.open(file)\n",
    "                image_list[-1].append(img)\n",
    "                img.load()\n",
    "                \n",
    "list(map(display, image_list[0][-6:]))"
   ]
  },
  {
   "cell_type": "code",
   "execution_count": 5,
   "metadata": {
    "id": "uX-uebpY7GxV"
   },
   "outputs": [],
   "source": [
    "gaze_list = []\n",
    "\n",
    "for csv_file in glob(\"data/s*/synth/00[0-9]_left.csv\"):\n",
    "    gaze_list.append([])\n",
    "    df = pd.read_csv(csv_file, header=None)\n",
    "    gaze_list[-1].append(df[[0,1,2]].values)\n",
    "\n",
    "gaze_list = np.array(gaze_list)"
   ]
  },
  {
   "cell_type": "code",
   "execution_count": 6,
   "metadata": {
    "colab": {
     "base_uri": "https://localhost:8080/"
    },
    "id": "FqPj3U_i7GxW",
    "outputId": "f7a00d1f-ff26-4e9a-cc6d-dcbc7faa7812"
   },
   "outputs": [
    {
     "data": {
      "text/plain": [
       "device(type='cuda', index=0)"
      ]
     },
     "execution_count": 6,
     "metadata": {},
     "output_type": "execute_result"
    }
   ],
   "source": [
    "device = torch.device(\"cuda:0\" if torch.cuda.is_available() else \"cpu\")\n",
    "resnet = resnet.to(device)\n",
    "device"
   ]
  },
  {
   "cell_type": "code",
   "execution_count": 7,
   "metadata": {
    "colab": {
     "base_uri": "https://localhost:8080/"
    },
    "id": "Rl7n_dJdGjXb",
    "outputId": "d646af9c-3f6f-4193-ec6c-b5c11359b92f"
   },
   "outputs": [
    {
     "data": {
      "text/plain": [
       "torch.Size([200, 144, 3, 36, 60])"
      ]
     },
     "execution_count": 7,
     "metadata": {},
     "output_type": "execute_result"
    }
   ],
   "source": [
    "\n",
    "transform = transforms.Compose([\n",
    "    transforms.ToTensor()\n",
    "])\n",
    "\n",
    "tensor_list = []\n",
    "\n",
    "for image_group in image_list:\n",
    "    image_tensor = [transform(i) for i in image_group]\n",
    "    image_tensor = torch.cat(image_tensor).float()[:,None,...]\n",
    "    image_tensor = image_tensor.repeat(1, 1, 3, 1, 1)\n",
    "    tensor_list.append(image_tensor)\n",
    "    \n",
    "image_tensor = torch.concat(tensor_list)\n",
    "image_tensor.shape"
   ]
  },
  {
   "cell_type": "code",
   "execution_count": 8,
   "metadata": {
    "colab": {
     "base_uri": "https://localhost:8080/",
     "height": 268
    },
    "id": "Bq2suf4q7GxX",
    "outputId": "4f6ccd4f-a916-40c6-d483-ea22e742c286"
   },
   "outputs": [
    {
     "data": {
      "text/plain": [
       "<matplotlib.image.AxesImage at 0x7f718961b400>"
      ]
     },
     "execution_count": 8,
     "metadata": {},
     "output_type": "execute_result"
    },
    {
     "data": {
      "image/png": "[encoded data removed]",
      "text/plain": [
       "<Figure size 640x480 with 1 Axes>"
      ]
     },
     "metadata": {},
     "output_type": "display_data"
    }
   ],
   "source": [
    "plt.imshow(image_tensor[0][0][0])"
   ]
  },
  {
   "cell_type": "code",
   "execution_count": 9,
   "metadata": {
    "colab": {
     "base_uri": "https://localhost:8080/"
    },
    "id": "0hi62fL97GxX",
    "outputId": "5f150302-3964-4250-a851-73d3292f5eb2"
   },
   "outputs": [
    {
     "data": {
      "text/plain": [
       "torch.Size([200, 144, 3])"
      ]
     },
     "execution_count": 9,
     "metadata": {},
     "output_type": "execute_result"
    }
   ],
   "source": [
    "gaze_tensor = torch.concat([torch.tensor(i) for i in gaze_list]).float()\n",
    "gaze_tensor.shape"
   ]
  },
  {
   "cell_type": "code",
   "execution_count": 10,
   "metadata": {},
   "outputs": [
    {
     "data": {
      "text/plain": [
       "torch.Size([200, 144, 2])"
      ]
     },
     "execution_count": 10,
     "metadata": {},
     "output_type": "execute_result"
    }
   ],
   "source": [
    "gaze_angles = torch.concat([torch.atan2(gaze_tensor[:,:,1], gaze_tensor[:,:,0])[..., None],\n",
    "                            torch.acos(gaze_tensor[:,:,2])[..., None]], axis=2)\n",
    "del gaze_tensor\n",
    "gaze_angles.shape"
   ]
  },
  {
   "cell_type": "code",
   "execution_count": 11,
   "metadata": {
    "colab": {
     "base_uri": "https://localhost:8080/"
    },
    "id": "GRwtVVCS7GxY",
    "outputId": "a67667fa-9929-4068-9f1d-fd8d5d5fdfb6"
   },
   "outputs": [
    {
     "name": "stdout",
     "output_type": "stream",
     "text": [
      "Loss: 1.4031429290771484\n",
      "Loss: 1.0836762189865112\n",
      "Loss: 1.1753122806549072\n",
      "Loss: 1.3717498779296875\n",
      "Loss: 1.1080739498138428\n"
     ]
    }
   ],
   "source": [
    "def pretrain(backbone):\n",
    "    model = nn.Sequential(backbone, nn.Linear(512, 2, bias=False)).to(device)\n",
    "    backbone.train()\n",
    "    model.train()\n",
    "    criterion = nn.MSELoss()\n",
    "    optimizer = torch.optim.Adam(model.parameters())\n",
    "    for epoch in range(5):\n",
    "        for batch, gaze in zip(image_tensor, gaze_angles):\n",
    "            optimizer.zero_grad()\n",
    "            out = model(batch.to(device))\n",
    "            loss = criterion(out, gaze.to(device))\n",
    "            loss.backward()\n",
    "            optimizer.step()\n",
    "        print(\"Loss:\", float(loss))\n",
    "\n",
    "pretrain(resnet)\n",
    "resnet.eval()\n",
    "for param in resnet.parameters():\n",
    "    param.requires_grad = False"
   ]
  },
  {
   "cell_type": "code",
   "execution_count": 12,
   "metadata": {
    "id": "Kul54EqVFxyI"
   },
   "outputs": [],
   "source": [
    "def train(backbone, n_epochs, train_data, train_label, subject_list):\n",
    "    sigma2 = 1\n",
    "    SIGMA_u = torch.eye(512).to(device)\n",
    "    \n",
    "    fixed_effects = nn.Linear(512, 1, bias=False).to(device)\n",
    "    \n",
    "    criterion = nn.MSELoss()\n",
    "    optimizer = torch.optim.Adam(fixed_effects.parameters())\n",
    "    \n",
    "    # Observation per batch\n",
    "    n_i = train_data.shape[1]\n",
    "    \n",
    "    # Amount of batches\n",
    "    n_batch = train_data.shape[0]\n",
    "    \n",
    "    # Amount of subjects\n",
    "    n_sub = len(np.unique(subject_list))\n",
    "    \n",
    "    # Total of observations\n",
    "    n = n_i * n_batch\n",
    "    \n",
    "    random_effects = [nn.Linear(512, 1, bias=False).to(device) for i in range(n_sub)]\n",
    "    for coeff in random_effects:\n",
    "        coeff.weight.data.fill_(0.0)\n",
    "    \n",
    "    I_n_i = torch.eye(n_i).to(device)\n",
    "    for epoch in range(1, n_epochs + 1):\n",
    "        \n",
    "        # Train fixed effects\n",
    "        fixed_effects.train()\n",
    "        for i, batch in enumerate(train_data):\n",
    "            optimizer.zero_grad()\n",
    "            subject = subject_list[i]\n",
    "            batch, y_i = batch.to(device), train_label[i].to(device)\n",
    "            Gamma = backbone(batch).detach()\n",
    "            y_i_random = random_effects[subject](Gamma)\n",
    "            y_i_fixed = y_i - y_i_random\n",
    "            loss = criterion(fixed_effects(Gamma), y_i_fixed)\n",
    "            loss.backward()\n",
    "            optimizer.step()\n",
    "            \n",
    "        sigma2_sum = 0\n",
    "        SIGMA_u_sum = 0\n",
    "        fixed_effects.eval()\n",
    "        with torch.no_grad():\n",
    "            for i, batch in enumerate(train_data):\n",
    "                batch, y_i = batch.to(device), train_label[i].to(device)\n",
    "\n",
    "                subject = subject_list[i]\n",
    "\n",
    "                # E-Step\n",
    "\n",
    "                Gamma = backbone(batch).detach()\n",
    "                y_i_fixed = fixed_effects(Gamma)\n",
    "\n",
    "                V_i = Gamma @ SIGMA_u @ Gamma.T + (sigma2 * I_n_i)\n",
    "                V_i_inv = torch.inverse(V_i)\n",
    "\n",
    "                # U_i = random_effects.weight\n",
    "                random_effects[subject].weight.data = (SIGMA_u @ Gamma.T @ V_i_inv @ (y_i - y_i_fixed)).T\n",
    "                epsilon_i = y_i - y_i_fixed - random_effects[subject](Gamma)\n",
    "\n",
    "                # M-step\n",
    "                u_i = random_effects[subject].weight.data\n",
    "                sigma2_sum += epsilon_i.T @ epsilon_i + sigma2 * (n_i - sigma2 * torch.trace(V_i_inv))\n",
    "                SIGMA_u_sum += u_i.T @ u_i + (SIGMA_u - SIGMA_u @ Gamma.T @ V_i_inv @ Gamma @ SIGMA_u)\n",
    "\n",
    "            sigma2 = sigma2_sum / n\n",
    "            SIGMA_u = SIGMA_u_sum / n_batch\n",
    "\n",
    "            loss_g = 0.0\n",
    "        \n",
    "            for i, batch in enumerate(train_data):\n",
    "                batch, y_i = batch.to(device), train_label[i].to(device)\n",
    "                subject = subject_list[i]\n",
    "                Gamma = backbone(batch)\n",
    "                y_i_fixed = fixed_effects(Gamma)\n",
    "                y_i_random = random_effects[subject](Gamma)\n",
    "                SIGMA_e = sigma2 * I_n_i\n",
    "                u_i = random_effects[subject].weight.data.T\n",
    "                error = y_i - y_i_fixed - y_i_random\n",
    "\n",
    "                loss_g += float(error.T @ torch.inverse(SIGMA_e) @ error\\\n",
    "                         + u_i.T @ torch.inverse(SIGMA_u) @ u_i \\\n",
    "                         + torch.log(1e05 + torch.det(SIGMA_e)) \\\n",
    "                         + torch.log(1e05 + torch.det(SIGMA_u)))\n",
    "        \n",
    "        if epoch % 3 == 0:\n",
    "            print(\"Epoch:\", epoch, \"Loss:\", loss_g/n)\n",
    "    \n",
    "    return fixed_effects, random_effects"
   ]
  },
  {
   "cell_type": "code",
   "execution_count": 13,
   "metadata": {
    "id": "uksrVZ2U7Gxj"
   },
   "outputs": [],
   "source": [
    "class RandomEffectsEstimation:\n",
    "\n",
    "    def __init__(self, backbone, random_effects, train_data, subject_list):\n",
    "        self.u_i = nn.Linear(512,512).to(device)\n",
    "        self.u_i.train()\n",
    "        criterion = nn.MSELoss()\n",
    "        optimizer = torch.optim.Adam(self.u_i.parameters())\n",
    "        \n",
    "        for epoch in range(5):\n",
    "            old_s = -1\n",
    "            for i, batch in enumerate(train_data):\n",
    "                subject = subject_list[i]\n",
    "                \n",
    "                with torch.no_grad():\n",
    "                    X = backbone(batch.to(device)).detach()\n",
    "                    if old_s != subject:\n",
    "                        y = (random_effects[subject].weight.data.repeat(144, 1))\n",
    "                        old_s = subject\n",
    "                \n",
    "                loss = criterion(self.u_i(X), y)\n",
    "                loss.backward()\n",
    "                optimizer.step()\n",
    "                \n",
    "        self.u_i.eval()\n",
    "\n",
    "    def __call__(self, Gamma):\n",
    "        h = nn.Linear(512,1, bias=False).to(device)\n",
    "        h.weight.data = self.u_i(Gamma)\n",
    "        return h(Gamma)\n"
   ]
  },
  {
   "cell_type": "code",
   "execution_count": 14,
   "metadata": {
    "id": "Bpxu1tdc7Gxk"
   },
   "outputs": [],
   "source": [
    "# Returns the angle between the two batch of vectors\n",
    "def angular_difference(truth_batch, pred_batch):\n",
    "    diff = 0\n",
    "    for truth, pred in zip(truth_batch, pred_batch):\n",
    "        theta_pred, phi_pred = pred[0], pred[1]\n",
    "        theta_true, phi_true = truth[0], truth[1]\n",
    "        \n",
    "        dot_prod = torch.sin(theta_pred) * torch.sin(theta_true) \\\n",
    "                   * torch.cos(phi_pred - phi_true) + torch.cos(theta_pred)\\\n",
    "                   * torch.cos(theta_true)\n",
    "        diff += torch.arccos(dot_prod) / np.pi * 180\n",
    "        \n",
    "    return diff / truth_batch.shape[0]"
   ]
  },
  {
   "cell_type": "code",
   "execution_count": 15,
   "metadata": {
    "id": "fvSZy00w7Gxk"
   },
   "outputs": [],
   "source": [
    "def cross_validation_menets(backbone, image_tensor, gaze_angles, fold = 3):\n",
    "    \n",
    "    n = gaze_angles.shape[0]  * (fold-1) // fold\n",
    "    g_train = lambda x : gaze_angles[:n, :, x, None]\n",
    "    \n",
    "    im_train = image_tensor[:n]\n",
    "    im_test = image_tensor[n:]\n",
    "    \n",
    "    fixed_effects, random_effects = zip(*[train(backbone, 10, im_train, g_train(i), subject_list) for i in range(2)])\n",
    "    h = [RandomEffectsEstimation(resnet, random_effects[i], im_train, subject_list) for i in range(2)]\n",
    "    \n",
    "    total_loss = 0.0\n",
    "    \n",
    "    with torch.no_grad():\n",
    "        predict = torch.zeros(144, 2)\n",
    "        for i, test in enumerate(im_test):\n",
    "            Gamma = backbone(test.to(device)).detach()\n",
    "            \n",
    "            truth = gaze_angles[n:][i]\n",
    "            for j in range(2):\n",
    "                predict[:, j] = (fixed_effects[j](Gamma).cpu() + h[j](Gamma).cpu())[0]\n",
    "                \n",
    "            total_loss += angular_difference(truth, predict)\n",
    "            \n",
    "    return float(total_loss / im_test.shape[0])"
   ]
  },
  {
   "cell_type": "code",
   "execution_count": 16,
   "metadata": {
    "colab": {
     "base_uri": "https://localhost:8080/"
    },
    "id": "n8FwSVEb7Gxk",
    "outputId": "349ecf66-a36a-4339-f51b-a63bb3657744"
   },
   "outputs": [
    {
     "name": "stdout",
     "output_type": "stream",
     "text": [
      "Epoch: 3 Loss: 10.20068957831527\n",
      "Epoch: 6 Loss: 15.550626288280949\n",
      "Epoch: 9 Loss: 21.73248597713142\n",
      "Epoch: 3 Loss: 3.542880786291838\n",
      "Epoch: 6 Loss: 18.916516730659886\n",
      "Epoch: 9 Loss: 51.73745436596691\n",
      "3-fold cross validation for MeNets is:  91.02415466308594\n"
     ]
    }
   ],
   "source": [
    "error = cross_validation_menets(resnet, image_tensor, gaze_angles)\n",
    "\n",
    "print(\"3-fold cross validation for MeNets is: \", error)"
   ]
  },
  {
   "cell_type": "code",
   "execution_count": 17,
   "metadata": {
    "id": "E412PeWY7Gxl"
   },
   "outputs": [],
   "source": [
    "def cross_validation_baseline(backbone, image_tensor, gaze_angles, fold = 3):\n",
    "    \n",
    "    n = gaze_angles.shape[0] // fold * (fold-1)\n",
    "    g_train = gaze_angles[:n]\n",
    "    g_test = gaze_angles[n:]\n",
    "    \n",
    "    im_train = image_tensor[:n]\n",
    "    im_test = image_tensor[n:]\n",
    "    \n",
    "    model = nn.Linear(512, 2).to(device)\n",
    "    criterion = nn.MSELoss()\n",
    "    optimizer = torch.optim.Adam(model.parameters())\n",
    "    # Train\n",
    "    for epoch in range(10):\n",
    "        optimizer.zero_grad()\n",
    "        for batch, gaze in zip(im_train, g_train):\n",
    "            Gamma = backbone(batch.to(device)).detach()\n",
    "            out = model(Gamma)\n",
    "            loss = criterion(out, gaze.to(device))\n",
    "            loss.backward()\n",
    "            optimizer.step()\n",
    "    \n",
    "    # Eval\n",
    "    total_loss = 0.0\n",
    "    \n",
    "    with torch.no_grad():\n",
    "        predict = torch.zeros(144, 2)\n",
    "        for i, test in enumerate(im_test):\n",
    "            Gamma = backbone(test.to(device)).detach()\n",
    "            predict = model(Gamma).cpu()\n",
    "            truth = g_test[i]\n",
    "            total_loss += angular_difference(truth, predict)\n",
    "            \n",
    "    return float(total_loss / im_test.shape[0])"
   ]
  },
  {
   "cell_type": "code",
   "execution_count": 18,
   "metadata": {
    "colab": {
     "base_uri": "https://localhost:8080/"
    },
    "id": "lSgz0xf27Gxl",
    "outputId": "edc47cc5-7dfb-428d-e63e-0246e1bced92"
   },
   "outputs": [
    {
     "name": "stdout",
     "output_type": "stream",
     "text": [
      "3-fold cross validation for ResNet baseline is:  89.98509216308594\n"
     ]
    }
   ],
   "source": [
    "error = cross_validation_baseline(resnet, image_tensor, gaze_angles)\n",
    "\n",
    "print(\"3-fold cross validation for ResNet baseline is: \", error)"
   ]
  },
  {
   "cell_type": "code",
   "execution_count": null,
   "metadata": {},
   "outputs": [],
   "source": []
  }
 ],
 "metadata": {
  "accelerator": "GPU",
  "colab": {
   "provenance": []
  },
  "kernelspec": {
   "display_name": "Python 3 (ipykernel)",
   "language": "python",
   "name": "python3"
  },
  "language_info": {
   "codemirror_mode": {
    "name": "ipython",
    "version": 3
   },
   "file_extension": ".py",
   "mimetype": "text/x-python",
   "name": "python",
   "nbconvert_exporter": "python",
   "pygments_lexer": "ipython3",
   "version": "3.10.9"
  }
 },
 "nbformat": 4,
 "nbformat_minor": 1
}
