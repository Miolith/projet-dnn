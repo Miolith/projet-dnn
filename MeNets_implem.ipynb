{
  "cells": [
    {
      "cell_type": "code",
      "execution_count": null,
      "metadata": {
        "id": "BpfdyHh87GxP"
      },
      "outputs": [],
      "source": [
        "import torchvision.models as models\n",
        "from torchvision.models.resnet import ResNet18_Weights\n",
        "import torch\n",
        "from torch import nn\n",
        "import numpy as np\n",
        "import matplotlib.pyplot as plt\n",
        "import torchvision.transforms as transforms\n",
        "import pandas as pd"
      ]
    },
    {
      "cell_type": "code",
      "execution_count": null,
      "metadata": {
        "id": "_k12BL8r1PEX"
      },
      "outputs": [],
      "source": [
        "resnet = models.resnet18(weights=ResNet18_Weights.IMAGENET1K_V1)\n",
        "resnet.fc = nn.Sequential(nn.Flatten(), nn.Dropout(0.5))"
      ]
    },
    {
      "cell_type": "code",
      "execution_count": null,
      "metadata": {
        "colab": {
          "base_uri": "https://localhost:8080/"
        },
        "id": "Wul5oIld-wLK",
        "outputId": "c0da648e-5323-4c42-a000-8ce6ca2fd073"
      },
      "outputs": [
        {
          "output_type": "execute_result",
          "data": {
            "text/plain": [
              "ResNet(\n",
              "  (conv1): Conv2d(3, 64, kernel_size=(7, 7), stride=(2, 2), padding=(3, 3), bias=False)\n",
              "  (bn1): BatchNorm2d(64, eps=1e-05, momentum=0.1, affine=True, track_running_stats=True)\n",
              "  (relu): ReLU(inplace=True)\n",
              "  (maxpool): MaxPool2d(kernel_size=3, stride=2, padding=1, dilation=1, ceil_mode=False)\n",
              "  (layer1): Sequential(\n",
              "    (0): BasicBlock(\n",
              "      (conv1): Conv2d(64, 64, kernel_size=(3, 3), stride=(1, 1), padding=(1, 1), bias=False)\n",
              "      (bn1): BatchNorm2d(64, eps=1e-05, momentum=0.1, affine=True, track_running_stats=True)\n",
              "      (relu): ReLU(inplace=True)\n",
              "      (conv2): Conv2d(64, 64, kernel_size=(3, 3), stride=(1, 1), padding=(1, 1), bias=False)\n",
              "      (bn2): BatchNorm2d(64, eps=1e-05, momentum=0.1, affine=True, track_running_stats=True)\n",
              "    )\n",
              "    (1): BasicBlock(\n",
              "      (conv1): Conv2d(64, 64, kernel_size=(3, 3), stride=(1, 1), padding=(1, 1), bias=False)\n",
              "      (bn1): BatchNorm2d(64, eps=1e-05, momentum=0.1, affine=True, track_running_stats=True)\n",
              "      (relu): ReLU(inplace=True)\n",
              "      (conv2): Conv2d(64, 64, kernel_size=(3, 3), stride=(1, 1), padding=(1, 1), bias=False)\n",
              "      (bn2): BatchNorm2d(64, eps=1e-05, momentum=0.1, affine=True, track_running_stats=True)\n",
              "    )\n",
              "  )\n",
              "  (layer2): Sequential(\n",
              "    (0): BasicBlock(\n",
              "      (conv1): Conv2d(64, 128, kernel_size=(3, 3), stride=(2, 2), padding=(1, 1), bias=False)\n",
              "      (bn1): BatchNorm2d(128, eps=1e-05, momentum=0.1, affine=True, track_running_stats=True)\n",
              "      (relu): ReLU(inplace=True)\n",
              "      (conv2): Conv2d(128, 128, kernel_size=(3, 3), stride=(1, 1), padding=(1, 1), bias=False)\n",
              "      (bn2): BatchNorm2d(128, eps=1e-05, momentum=0.1, affine=True, track_running_stats=True)\n",
              "      (downsample): Sequential(\n",
              "        (0): Conv2d(64, 128, kernel_size=(1, 1), stride=(2, 2), bias=False)\n",
              "        (1): BatchNorm2d(128, eps=1e-05, momentum=0.1, affine=True, track_running_stats=True)\n",
              "      )\n",
              "    )\n",
              "    (1): BasicBlock(\n",
              "      (conv1): Conv2d(128, 128, kernel_size=(3, 3), stride=(1, 1), padding=(1, 1), bias=False)\n",
              "      (bn1): BatchNorm2d(128, eps=1e-05, momentum=0.1, affine=True, track_running_stats=True)\n",
              "      (relu): ReLU(inplace=True)\n",
              "      (conv2): Conv2d(128, 128, kernel_size=(3, 3), stride=(1, 1), padding=(1, 1), bias=False)\n",
              "      (bn2): BatchNorm2d(128, eps=1e-05, momentum=0.1, affine=True, track_running_stats=True)\n",
              "    )\n",
              "  )\n",
              "  (layer3): Sequential(\n",
              "    (0): BasicBlock(\n",
              "      (conv1): Conv2d(128, 256, kernel_size=(3, 3), stride=(2, 2), padding=(1, 1), bias=False)\n",
              "      (bn1): BatchNorm2d(256, eps=1e-05, momentum=0.1, affine=True, track_running_stats=True)\n",
              "      (relu): ReLU(inplace=True)\n",
              "      (conv2): Conv2d(256, 256, kernel_size=(3, 3), stride=(1, 1), padding=(1, 1), bias=False)\n",
              "      (bn2): BatchNorm2d(256, eps=1e-05, momentum=0.1, affine=True, track_running_stats=True)\n",
              "      (downsample): Sequential(\n",
              "        (0): Conv2d(128, 256, kernel_size=(1, 1), stride=(2, 2), bias=False)\n",
              "        (1): BatchNorm2d(256, eps=1e-05, momentum=0.1, affine=True, track_running_stats=True)\n",
              "      )\n",
              "    )\n",
              "    (1): BasicBlock(\n",
              "      (conv1): Conv2d(256, 256, kernel_size=(3, 3), stride=(1, 1), padding=(1, 1), bias=False)\n",
              "      (bn1): BatchNorm2d(256, eps=1e-05, momentum=0.1, affine=True, track_running_stats=True)\n",
              "      (relu): ReLU(inplace=True)\n",
              "      (conv2): Conv2d(256, 256, kernel_size=(3, 3), stride=(1, 1), padding=(1, 1), bias=False)\n",
              "      (bn2): BatchNorm2d(256, eps=1e-05, momentum=0.1, affine=True, track_running_stats=True)\n",
              "    )\n",
              "  )\n",
              "  (layer4): Sequential(\n",
              "    (0): BasicBlock(\n",
              "      (conv1): Conv2d(256, 512, kernel_size=(3, 3), stride=(2, 2), padding=(1, 1), bias=False)\n",
              "      (bn1): BatchNorm2d(512, eps=1e-05, momentum=0.1, affine=True, track_running_stats=True)\n",
              "      (relu): ReLU(inplace=True)\n",
              "      (conv2): Conv2d(512, 512, kernel_size=(3, 3), stride=(1, 1), padding=(1, 1), bias=False)\n",
              "      (bn2): BatchNorm2d(512, eps=1e-05, momentum=0.1, affine=True, track_running_stats=True)\n",
              "      (downsample): Sequential(\n",
              "        (0): Conv2d(256, 512, kernel_size=(1, 1), stride=(2, 2), bias=False)\n",
              "        (1): BatchNorm2d(512, eps=1e-05, momentum=0.1, affine=True, track_running_stats=True)\n",
              "      )\n",
              "    )\n",
              "    (1): BasicBlock(\n",
              "      (conv1): Conv2d(512, 512, kernel_size=(3, 3), stride=(1, 1), padding=(1, 1), bias=False)\n",
              "      (bn1): BatchNorm2d(512, eps=1e-05, momentum=0.1, affine=True, track_running_stats=True)\n",
              "      (relu): ReLU(inplace=True)\n",
              "      (conv2): Conv2d(512, 512, kernel_size=(3, 3), stride=(1, 1), padding=(1, 1), bias=False)\n",
              "      (bn2): BatchNorm2d(512, eps=1e-05, momentum=0.1, affine=True, track_running_stats=True)\n",
              "    )\n",
              "  )\n",
              "  (avgpool): AdaptiveAvgPool2d(output_size=(1, 1))\n",
              "  (fc): Flatten(start_dim=1, end_dim=-1)\n",
              ")"
            ]
          },
          "metadata": {},
          "execution_count": 22
        }
      ],
      "source": [
        "resnet"
      ]
    },
    {
      "cell_type": "code",
      "execution_count": null,
      "metadata": {
        "id": "PC8OiZ-eCJcC",
        "outputId": "0cf8586b-1810-4467-e0c6-5fcbac1c214f",
        "colab": {
          "base_uri": "https://localhost:8080/",
          "height": 251
        }
      },
      "outputs": [
        {
          "output_type": "display_data",
          "data": {
            "text/plain": [
              "<PIL.BmpImagePlugin.BmpImageFile image mode=L size=60x36 at 0x7F35D78D7C10>"
            ],
            "image/png": "[encoded data removed]"
          },
          "metadata": {}
        },
        {
          "output_type": "display_data",
          "data": {
            "text/plain": [
              "<PIL.BmpImagePlugin.BmpImageFile image mode=L size=60x36 at 0x7F35D78D7460>"
            ],
            "image/png": "[encoded data removed]"
          },
          "metadata": {}
        },
        {
          "output_type": "display_data",
          "data": {
            "text/plain": [
              "<PIL.BmpImagePlugin.BmpImageFile image mode=L size=60x36 at 0x7F35D78D7E80>"
            ],
            "image/png": "[encoded data removed]"
          },
          "metadata": {}
        },
        {
          "output_type": "display_data",
          "data": {
            "text/plain": [
              "<PIL.BmpImagePlugin.BmpImageFile image mode=L size=60x36 at 0x7F35D78D7AC0>"
            ],
            "image/png": "[encoded data removed]"
          },
          "metadata": {}
        },
        {
          "output_type": "display_data",
          "data": {
            "text/plain": [
              "<PIL.BmpImagePlugin.BmpImageFile image mode=L size=60x36 at 0x7F35D78D7F70>"
            ],
            "image/png": "[encoded data removed]"
          },
          "metadata": {}
        },
        {
          "output_type": "display_data",
          "data": {
            "text/plain": [
              "<PIL.BmpImagePlugin.BmpImageFile image mode=L size=60x36 at 0x7F35D78D7B80>"
            ],
            "image/png": "[encoded data removed]"
          },
          "metadata": {}
        },
        {
          "output_type": "execute_result",
          "data": {
            "text/plain": [
              "[None, None, None, None, None, None]"
            ]
          },
          "metadata": {},
          "execution_count": 23
        }
      ],
      "source": [
        "from zipfile import ZipFile\n",
        "from PIL import Image\n",
        "from glob import glob\n",
        "\n",
        "image_list = []\n",
        "\n",
        "subject_num = 20\n",
        "batch_per_subject = 10\n",
        "\n",
        "subject_list = np.repeat(np.arange(subject_num),batch_per_subject)\n",
        "\n",
        "for data in glob(\"data/s*/synth/00[0-9]_left.zip\"):\n",
        "\n",
        "    with ZipFile(data) as archive:\n",
        "        image_list.append([])\n",
        "        for entry in archive.infolist():\n",
        "            \n",
        "            with archive.open(entry) as file:\n",
        "                img = Image.open(file)\n",
        "                image_list[-1].append(img)\n",
        "                img.load()\n",
        "                \n",
        "list(map(display, image_list[0][-6:]))"
      ]
    },
    {
      "cell_type": "code",
      "execution_count": null,
      "metadata": {
        "id": "uX-uebpY7GxV"
      },
      "outputs": [],
      "source": [
        "gaze_list = []\n",
        "\n",
        "for csv_file in glob(\"data/s*/synth/00[0-9]_left.csv\"):\n",
        "    gaze_list.append([])\n",
        "    df = pd.read_csv(csv_file, header=None)\n",
        "    gaze_list[-1].append(df[[0,1,2]].values)\n",
        "\n",
        "gaze_list = np.array(gaze_list)"
      ]
    },
    {
      "cell_type": "code",
      "execution_count": null,
      "metadata": {
        "id": "FqPj3U_i7GxW",
        "outputId": "f7a00d1f-ff26-4e9a-cc6d-dcbc7faa7812",
        "colab": {
          "base_uri": "https://localhost:8080/"
        }
      },
      "outputs": [
        {
          "output_type": "execute_result",
          "data": {
            "text/plain": [
              "device(type='cuda', index=0)"
            ]
          },
          "metadata": {},
          "execution_count": 25
        }
      ],
      "source": [
        "device = torch.device(\"cuda:0\" if torch.cuda.is_available() else \"cpu\")\n",
        "resnet = resnet.to(device)\n",
        "device"
      ]
    },
    {
      "cell_type": "code",
      "execution_count": null,
      "metadata": {
        "id": "Rl7n_dJdGjXb",
        "outputId": "d646af9c-3f6f-4193-ec6c-b5c11359b92f",
        "colab": {
          "base_uri": "https://localhost:8080/"
        }
      },
      "outputs": [
        {
          "output_type": "execute_result",
          "data": {
            "text/plain": [
              "torch.Size([20, 144, 3, 36, 60])"
            ]
          },
          "metadata": {},
          "execution_count": 26
        }
      ],
      "source": [
        "\n",
        "transform = transforms.Compose([\n",
        "    transforms.ToTensor()\n",
        "])\n",
        "\n",
        "tensor_list = []\n",
        "\n",
        "for image_group in image_list:\n",
        "    image_tensor = [transform(i) for i in image_group]\n",
        "    image_tensor = torch.cat(image_tensor).float()[:,None,...]\n",
        "    image_tensor = image_tensor.repeat(1, 1, 3, 1, 1)\n",
        "    tensor_list.append(image_tensor)\n",
        "    \n",
        "image_tensor = torch.concat(tensor_list)\n",
        "image_tensor.shape"
      ]
    },
    {
      "cell_type": "code",
      "execution_count": null,
      "metadata": {
        "id": "Bq2suf4q7GxX",
        "outputId": "4f6ccd4f-a916-40c6-d483-ea22e742c286",
        "colab": {
          "base_uri": "https://localhost:8080/",
          "height": 268
        }
      },
      "outputs": [
        {
          "output_type": "execute_result",
          "data": {
            "text/plain": [
              "<matplotlib.image.AxesImage at 0x7f35df4060a0>"
            ]
          },
          "metadata": {},
          "execution_count": 27
        },
        {
          "output_type": "display_data",
          "data": {
            "text/plain": [
              "<Figure size 432x288 with 1 Axes>"
            ],
            "image/png": "[encoded data removed]"
          },
          "metadata": {
            "needs_background": "light"
          }
        }
      ],
      "source": [
        "plt.imshow(image_tensor[0][0][0])"
      ]
    },
    {
      "cell_type": "code",
      "execution_count": null,
      "metadata": {
        "id": "0hi62fL97GxX",
        "outputId": "5f150302-3964-4250-a851-73d3292f5eb2",
        "colab": {
          "base_uri": "https://localhost:8080/"
        }
      },
      "outputs": [
        {
          "output_type": "execute_result",
          "data": {
            "text/plain": [
              "torch.Size([20, 144, 3])"
            ]
          },
          "metadata": {},
          "execution_count": 28
        }
      ],
      "source": [
        "gaze_tensor = torch.concat([torch.tensor(i) for i in gaze_list]).float()\n",
        "gaze_tensor.shape"
      ]
    },
    {
      "cell_type": "code",
      "execution_count": null,
      "metadata": {
        "id": "GRwtVVCS7GxY",
        "outputId": "a67667fa-9929-4068-9f1d-fd8d5d5fdfb6",
        "colab": {
          "base_uri": "https://localhost:8080/"
        }
      },
      "outputs": [
        {
          "output_type": "stream",
          "name": "stdout",
          "text": [
            "Loss: 0.0848180279135704\n",
            "Loss: 0.024143273010849953\n",
            "Loss: 0.025786306709051132\n",
            "Loss: 0.073996402323246\n",
            "Loss: 0.30289825797080994\n"
          ]
        }
      ],
      "source": [
        "def pretrain(backbone):\n",
        "    model = nn.Sequential(backbone, nn.Linear(512, 3, bias=False)).to(device)\n",
        "    model.train()\n",
        "    criterion = nn.MSELoss()\n",
        "    optimizer = torch.optim.Adam(model.parameters())\n",
        "    for epoch in range(5):\n",
        "        for batch, gaze in zip(image_tensor, gaze_tensor):\n",
        "            optimizer.zero_grad()\n",
        "            out = model(batch.to(device))\n",
        "            loss = criterion(out, gaze.to(device))\n",
        "            loss.backward()\n",
        "            optimizer.step()\n",
        "        print(\"Loss:\", float(loss))\n",
        "\n",
        "pretrain(resnet)\n",
        "for param in resnet.parameters():\n",
        "    param.requires_grad = False"
      ]
    },
    {
      "cell_type": "code",
      "execution_count": null,
      "metadata": {
        "id": "Kul54EqVFxyI"
      },
      "outputs": [],
      "source": [
        "def train(backbone, n_epochs, train_data, train_label, subject_list):\n",
        "    backbone.eval()\n",
        "    sigma2 = 1\n",
        "    SIGMA_u = torch.eye(512).to(device)\n",
        "    \n",
        "    fixed_effects = nn.Linear(512, 1, bias=False).to(device)\n",
        "    \n",
        "    criterion = nn.MSELoss()\n",
        "    optimizer = torch.optim.Adam(fixed_effects.parameters())\n",
        "    \n",
        "    # Observation per batch\n",
        "    n_i = train_data.shape[1]\n",
        "    \n",
        "    # Amount of batches\n",
        "    n_batch = train_data.shape[0]\n",
        "    \n",
        "    # Amount of subjects\n",
        "    n_sub = len(np.unique(subject_list))\n",
        "    \n",
        "    # Total of observations\n",
        "    n = n_i * n_batch\n",
        "    \n",
        "    random_effects = [nn.Linear(512, 1, bias=False).to(device) for i in range(n_sub)]\n",
        "    for coeff in random_effects:\n",
        "        coeff.weight.data.fill_(0.0)\n",
        "    \n",
        "    I_n_i = torch.eye(n_i).to(device)\n",
        "    for epoch in range(1, n_epochs + 1):\n",
        "        \n",
        "        # Train gamma & fixed effects\n",
        "        fixed_effects.train()\n",
        "        for i, batch in enumerate(train_data):\n",
        "            optimizer.zero_grad()\n",
        "            subject = subject_list[i]\n",
        "            batch, y_i = batch.to(device), train_label[i].to(device)\n",
        "            Gamma = backbone(batch)\n",
        "            y_i_random = random_effects[subject](Gamma)\n",
        "            y_i_fixed = y_i - y_i_random\n",
        "            loss = criterion(fixed_effects(Gamma), y_i_fixed)\n",
        "            loss.backward()\n",
        "            optimizer.step()\n",
        "            \n",
        "        sigma2_sum = 0\n",
        "        SIGMA_u_sum = 0\n",
        "        backbone.eval()\n",
        "        fixed_effects.eval()\n",
        "        with torch.no_grad():\n",
        "            for i, batch in enumerate(train_data):\n",
        "                batch, y_i = batch.to(device), train_label[i].to(device)\n",
        "\n",
        "                subject = subject_list[i]\n",
        "\n",
        "                # E-Step\n",
        "\n",
        "                Gamma = backbone(batch)\n",
        "                y_i_fixed = fixed_effects(Gamma)\n",
        "\n",
        "                V_i = Gamma @ SIGMA_u @ Gamma.T + (sigma2 * I_n_i)\n",
        "                V_i_inv = torch.inverse(V_i)\n",
        "\n",
        "                # U_i = random_effects.weight\n",
        "                random_effects[subject].weight.data = (SIGMA_u @ Gamma.T @ V_i_inv @ (y_i - y_i_fixed)).T\n",
        "                epsilon_i = y_i - y_i_fixed - random_effects[subject](Gamma)\n",
        "\n",
        "                # M-step\n",
        "                u_i = random_effects[subject].weight.data\n",
        "                sigma2_sum += epsilon_i.T @ epsilon_i + sigma2 * (n_i - sigma2 * torch.trace(V_i_inv))\n",
        "                SIGMA_u_sum += u_i.T @ u_i + (SIGMA_u - SIGMA_u @ Gamma.T @ V_i_inv @ Gamma @ SIGMA_u)\n",
        "\n",
        "            sigma2 = sigma2_sum / n\n",
        "            SIGMA_u = SIGMA_u_sum / n_batch\n",
        "\n",
        "            loss_g = 0.0\n",
        "        \n",
        "            for i, batch in enumerate(train_data):\n",
        "                batch, y_i = batch.to(device), train_label[i].to(device)\n",
        "                subject = subject_list[i]\n",
        "                Gamma = backbone(batch)\n",
        "                y_i_fixed = fixed_effects(Gamma)\n",
        "                y_i_random = random_effects[subject](Gamma)\n",
        "                SIGMA_e = sigma2 * I_n_i\n",
        "                u_i = random_effects[subject].weight.data.T\n",
        "                error = y_i - y_i_fixed - y_i_random\n",
        "\n",
        "                loss_g += float(error.T @ torch.inverse(SIGMA_e) @ error\\\n",
        "                         + u_i.T @ torch.inverse(SIGMA_u) @ u_i \\\n",
        "                         + torch.det(SIGMA_e) + torch.det(SIGMA_u))\n",
        "        \n",
        "        if epoch % 3 == 0:\n",
        "            print(\"Epoch:\", epoch, \"Loss:\", loss_g/n)\n",
        "    \n",
        "    return fixed_effects, random_effects"
      ]
    },
    {
      "cell_type": "code",
      "execution_count": null,
      "metadata": {
        "id": "uksrVZ2U7Gxj"
      },
      "outputs": [],
      "source": [
        "class RandomEffectsEstimation:\n",
        "\n",
        "    def __init__(self, backbone, random_effects, train_data, subject_list):\n",
        "        self.u_i = nn.Linear(512,512).to(device)\n",
        "        self.u_i.train()\n",
        "        backbone.eval()\n",
        "        criterion = nn.MSELoss()\n",
        "        optimizer = torch.optim.Adam(self.u_i.parameters())\n",
        "        \n",
        "        for epoch in range(5):\n",
        "            old_s = -1\n",
        "            for i, batch in enumerate(train_data):\n",
        "                subject = subject_list[i]\n",
        "                \n",
        "                with torch.no_grad():\n",
        "                    X = backbone(batch.to(device))\n",
        "                    if old_s != subject:\n",
        "                        y = (random_effects[subject].weight.data.repeat(144, 1))\n",
        "                        old_s = subject\n",
        "                \n",
        "                loss = criterion(self.u_i(X), y)\n",
        "                loss.backward()\n",
        "                optimizer.step()\n",
        "                \n",
        "        self.u_i.eval()\n",
        "\n",
        "    def __call__(self, Gamma):\n",
        "          h = nn.Linear(512,1, bias=False).to(device)\n",
        "          h.weight.data = self.u_i(Gamma)\n",
        "          return h(Gamma)\n"
      ]
    },
    {
      "cell_type": "code",
      "execution_count": null,
      "metadata": {
        "id": "Bpxu1tdc7Gxk"
      },
      "outputs": [],
      "source": [
        "# Returns the angle between the two batch of vectors\n",
        "def angular_difference(truth_batch, pred_batch):\n",
        "    diff = 0\n",
        "    for truth, pred in zip(truth_batch, pred_batch):\n",
        "        angle_val = torch.dot(pred, truth)\n",
        "        angle_val = max(min(angle_val, 1), -1)\n",
        "        diff += np.arccos(angle_val) * 180. / np.pi\n",
        "        \n",
        "    return diff / truth_batch.shape[0]"
      ]
    },
    {
      "cell_type": "code",
      "execution_count": null,
      "metadata": {
        "id": "fvSZy00w7Gxk"
      },
      "outputs": [],
      "source": [
        "def cross_validation_menets(backbone, im_train, im_test, gaze_train, gaze_test, subjects):\n",
        "    \n",
        "    g_train = lambda x : gaze_train[:, :, x, None]\n",
        "    \n",
        "    fixed_effects, random_effects = zip(*[train(backbone, 10, im_train, g_train(i), subjects) for i in range(3)])\n",
        "    \n",
        "    backbone.eval()\n",
        "    h = [RandomEffectsEstimation(resnet, random_effects[i], im_train, subjects) for i in range(3)]\n",
        "    \n",
        "    total_loss = 0.0\n",
        "    \n",
        "    with torch.no_grad():\n",
        "        predict = torch.zeros(144, 3)\n",
        "        for i, test in enumerate(im_test):\n",
        "            Gamma = backbone(test.to(device))\n",
        "            \n",
        "            truth = gaze_test[i]\n",
        "            for j in range(3):\n",
        "                predict[:, j] = (fixed_effects[j](Gamma).cpu() + h[j](Gamma).cpu())[0]\n",
        "                \n",
        "            total_loss += angular_difference(truth, predict)\n",
        "            \n",
        "    return float(total_loss / im_test.shape[0])\n",
        "        "
      ]
    },
    {
      "cell_type": "code",
      "execution_count": null,
      "metadata": {
        "id": "n8FwSVEb7Gxk",
        "outputId": "349ecf66-a36a-4339-f51b-a63bb3657744",
        "colab": {
          "base_uri": "https://localhost:8080/"
        }
      },
      "outputs": [
        {
          "output_type": "stream",
          "name": "stdout",
          "text": [
            "Epoch: 1 LA LOSS ELLE VÔ 0.28214329039608993\n",
            "Epoch: 2 LA LOSS ELLE VÔ 1.0104956985623748\n",
            "Epoch: 3 LA LOSS ELLE VÔ 3.0187088209721775\n",
            "Epoch: 4 LA LOSS ELLE VÔ 6.464640532378797\n",
            "Epoch: 5 LA LOSS ELLE VÔ 14.238456753117067\n",
            "Epoch: 6 LA LOSS ELLE VÔ 23.061212986707687\n",
            "Epoch: 7 LA LOSS ELLE VÔ 47.648181936255206\n",
            "Epoch: 8 LA LOSS ELLE VÔ 70.70501298484979\n",
            "Epoch: 9 LA LOSS ELLE VÔ 147.56624911339193\n",
            "Epoch: 10 LA LOSS ELLE VÔ 236.23796961152996\n",
            "Epoch: 1 LA LOSS ELLE VÔ 0.34056158857075153\n",
            "Epoch: 2 LA LOSS ELLE VÔ 1.0958517081345673\n",
            "Epoch: 3 LA LOSS ELLE VÔ 2.476490007230529\n",
            "Epoch: 4 LA LOSS ELLE VÔ 4.5538731551280724\n",
            "Epoch: 5 LA LOSS ELLE VÔ 6.4998164444609925\n",
            "Epoch: 6 LA LOSS ELLE VÔ 12.440362205383954\n",
            "Epoch: 7 LA LOSS ELLE VÔ 16.552647723919815\n",
            "Epoch: 8 LA LOSS ELLE VÔ 27.279748655027813\n",
            "Epoch: 9 LA LOSS ELLE VÔ 35.88022567249007\n",
            "Epoch: 10 LA LOSS ELLE VÔ 39.40682404184783\n",
            "Epoch: 1 LA LOSS ELLE VÔ 0.0885793044473286\n",
            "Epoch: 2 LA LOSS ELLE VÔ 0.3648102861587648\n",
            "Epoch: 3 LA LOSS ELLE VÔ 0.7059533665025676\n",
            "Epoch: 4 LA LOSS ELLE VÔ 1.4684068479195789\n",
            "Epoch: 5 LA LOSS ELLE VÔ 2.3899643145225666\n",
            "Epoch: 6 LA LOSS ELLE VÔ 3.685328267790653\n",
            "Epoch: 7 LA LOSS ELLE VÔ 5.2965973516305285\n",
            "Epoch: 8 LA LOSS ELLE VÔ 8.312484595510695\n",
            "Epoch: 9 LA LOSS ELLE VÔ 14.497219245190974\n",
            "Epoch: 10 LA LOSS ELLE VÔ 23.82208336834554\n"
          ]
        },
        {
          "output_type": "execute_result",
          "data": {
            "text/plain": [
              "8.06650161743164"
            ]
          },
          "metadata": {},
          "execution_count": 34
        }
      ],
      "source": [
        "n = subject_num\n",
        "\n",
        "gaze_folds = (gaze_tensor[:n // 3],\n",
        "              gaze_tensor[n // 3 : 2*n // 3],\n",
        "              gaze_tensor[2*n//3:])\n",
        "\n",
        "im_folds = (image_tensor[:n // 3],\n",
        "            image_tensor[n // 3 : 2*n // 3],\n",
        "            image_tensor[2*n//3:])\n",
        "\n",
        "subject_folds = (subject_list[:n // 3],\n",
        "                subject_list[n // 3 : 2*n // 3],\n",
        "                subject_list[2*n//3:])\n",
        "\n",
        "\n",
        "error = cross_validation_menets(resnet,\n",
        "                        torch.cat([im_folds[0], im_folds[1]], 0)\n",
        "                        im_folds[2],\n",
        "                        torch.cat([gaze_folds[0], gaze_folds[1]], 0),\n",
        "                        gaze_folds[2]\n",
        "                        torch.cat(subject_folds[0], subject_folds[1]))\n",
        "\n",
        "error += cross_validation_menets(resnet,\n",
        "                        torch.cat([im_folds[0], im_folds[2]], 0)\n",
        "                        im_folds[1],\n",
        "                        torch.cat([gaze_folds[0], gaze_folds[2]], 0),\n",
        "                        gaze_folds[1]\n",
        "                        torch.cat(subject_folds[0], subject_folds[2]))\n",
        "\n",
        "error += cross_validation_menets(resnet,\n",
        "                        torch.cat([im_folds[1], im_folds[2]], 0)\n",
        "                        im_folds[0],\n",
        "                        torch.cat([gaze_folds[1], gaze_folds[2]], 0),\n",
        "                        gaze_folds[0]\n",
        "                        torch.cat([subject_folds[1], subject_folds[2]], 0))\n",
        "\n",
        "print(\"3-fold cross validation for MeNets is: \", error / 3)"
      ]
    },
    {
      "cell_type": "code",
      "execution_count": null,
      "metadata": {
        "id": "E412PeWY7Gxl"
      },
      "outputs": [],
      "source": [
        "def cross_validation_baseline(backbone, im_train, im_test, gaze_train, gaze_test, subjects):\n",
        "    \n",
        "    model = nn.Sequential(backbone, nn.Linear(512, 3, bias=False)).to(device)\n",
        "    backbone.train()\n",
        "    model.train()\n",
        "    criterion = nn.MSELoss()\n",
        "    optimizer = torch.optim.Adam(model.parameters())\n",
        "    for epoch in range(10):\n",
        "        optimizer.zero_grad()\n",
        "        for batch, gaze in zip(im_train, gaze_train):\n",
        "            out = model(batch.to(device))\n",
        "            loss = criterion(out, gaze.to(device))\n",
        "            loss.backward()\n",
        "            optimizer.step()\n",
        "    \n",
        "    total_loss = 0.0\n",
        "    backbone.eval()\n",
        "    model.eval()\n",
        "    \n",
        "    with torch.no_grad():\n",
        "        predict = torch.zeros(144, 3)\n",
        "        for i, test in enumerate(im_test):\n",
        "            predict = model(test.to(device)).cpu()\n",
        "            \n",
        "            truth = gaze_test\n",
        "            total_loss += angular_difference(truth, predict)\n",
        "    return float(total_loss / im_test.shape[0])"
      ]
    },
    {
      "cell_type": "code",
      "execution_count": null,
      "metadata": {
        "id": "lSgz0xf27Gxl",
        "outputId": "edc47cc5-7dfb-428d-e63e-0246e1bced92",
        "colab": {
          "base_uri": "https://localhost:8080/"
        }
      },
      "outputs": [
        {
          "output_type": "execute_result",
          "data": {
            "text/plain": [
              "31.531253814697266"
            ]
          },
          "metadata": {},
          "execution_count": 36
        }
      ],
      "source": [
        "error = cross_validation_baseline(resnet,\n",
        "                        torch.cat([im_folds[0], im_folds[1]], 0)\n",
        "                        im_folds[2],\n",
        "                        torch.cat([gaze_folds[0], gaze_folds[1]], 0),\n",
        "                        gaze_folds[2]\n",
        "                        torch.cat(subject_folds[0], subject_folds[1]))\n",
        "\n",
        "error += cross_validation_baseline(resnet,\n",
        "                        torch.cat([im_folds[0], im_folds[2]], 0)\n",
        "                        im_folds[1],\n",
        "                        torch.cat([gaze_folds[0], gaze_folds[2]], 0),\n",
        "                        gaze_folds[1]\n",
        "                        torch.cat(subject_folds[0], subject_folds[2]))\n",
        "\n",
        "error += cross_validation_baseline(resnet,\n",
        "                        torch.cat([im_folds[1], im_folds[2]], 0)\n",
        "                        im_folds[0],\n",
        "                        torch.cat([gaze_folds[1], gaze_folds[2]], 0),\n",
        "                        gaze_folds[0]\n",
        "                        torch.cat([subject_folds[1], subject_folds[2]], 0))\n",
        "\n",
        "print(\"3-fold cross validation for ResNet baseline is: \", error / 3)"
      ]
    },
    {
      "cell_type": "code",
      "execution_count": null,
      "metadata": {
        "id": "rgiQD82M7Gxl"
      },
      "outputs": [],
      "source": []
    }
  ],
  "metadata": {
    "accelerator": "GPU",
    "colab": {
      "provenance": []
    },
    "kernelspec": {
      "display_name": "Python 3 (ipykernel)",
      "language": "python",
      "name": "python3"
    },
    "language_info": {
      "codemirror_mode": {
        "name": "ipython",
        "version": 3
      },
      "file_extension": ".py",
      "mimetype": "text/x-python",
      "name": "python",
      "nbconvert_exporter": "python",
      "pygments_lexer": "ipython3",
      "version": "3.10.8"
    }
  },
  "nbformat": 4,
  "nbformat_minor": 0
}