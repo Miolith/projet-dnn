{
 "cells": [
  {
   "cell_type": "code",
   "execution_count": 1,
   "metadata": {},
   "outputs": [],
   "source": [
    "import torchvision.models as models\n",
    "from torchvision.models.resnet import ResNet18_Weights\n",
    "import torch\n",
    "from torch import nn\n",
    "import numpy as np\n",
    "import matplotlib.pyplot as plt\n",
    "import torchvision.transforms as transforms\n",
    "import pandas as pd"
   ]
  },
  {
   "cell_type": "code",
   "execution_count": 2,
   "metadata": {
    "colab": {
     "base_uri": "https://localhost:8080/",
     "height": 156,
     "referenced_widgets": [
      "0909ed83c6b9416f918724814b67ad68",
      "688d13f8cef44f7ab467d47a4257b2b5",
      "b7dde7790e5b42108bfa918b8e5f3cd1",
      "f18caa6894ba4637b405cac783864b24",
      "bc81772c921344488a4f7e3369b28edc",
      "907396e021f549a39249299d85a32d1f",
      "b798b3eb0a4c48f3a02196f925a44819",
      "3acc9a6acad248b1b7a42ea8ba74549c",
      "43a101b14b654c5c880f12f5bf86fdec",
      "480332fb4c4e4186849a07586eed30f1",
      "0197510d32d8444daf52863f1a6a0540"
     ]
    },
    "id": "_k12BL8r1PEX",
    "outputId": "7d26c21a-a330-40dc-cb07-07b9ed6073bc"
   },
   "outputs": [],
   "source": [
    "resnet = models.resnet18(weights=ResNet18_Weights.IMAGENET1K_V1)\n",
    "resnet.fc = nn.Flatten()"
   ]
  },
  {
   "cell_type": "code",
   "execution_count": 3,
   "metadata": {
    "colab": {
     "base_uri": "https://localhost:8080/"
    },
    "id": "Wul5oIld-wLK",
    "outputId": "8eea4f5f-011f-4aa8-bfb6-c64a6d09610d"
   },
   "outputs": [
    {
     "data": {
      "text/plain": [
       "ResNet(\n",
       "  (conv1): Conv2d(3, 64, kernel_size=(7, 7), stride=(2, 2), padding=(3, 3), bias=False)\n",
       "  (bn1): BatchNorm2d(64, eps=1e-05, momentum=0.1, affine=True, track_running_stats=True)\n",
       "  (relu): ReLU(inplace=True)\n",
       "  (maxpool): MaxPool2d(kernel_size=3, stride=2, padding=1, dilation=1, ceil_mode=False)\n",
       "  (layer1): Sequential(\n",
       "    (0): BasicBlock(\n",
       "      (conv1): Conv2d(64, 64, kernel_size=(3, 3), stride=(1, 1), padding=(1, 1), bias=False)\n",
       "      (bn1): BatchNorm2d(64, eps=1e-05, momentum=0.1, affine=True, track_running_stats=True)\n",
       "      (relu): ReLU(inplace=True)\n",
       "      (conv2): Conv2d(64, 64, kernel_size=(3, 3), stride=(1, 1), padding=(1, 1), bias=False)\n",
       "      (bn2): BatchNorm2d(64, eps=1e-05, momentum=0.1, affine=True, track_running_stats=True)\n",
       "    )\n",
       "    (1): BasicBlock(\n",
       "      (conv1): Conv2d(64, 64, kernel_size=(3, 3), stride=(1, 1), padding=(1, 1), bias=False)\n",
       "      (bn1): BatchNorm2d(64, eps=1e-05, momentum=0.1, affine=True, track_running_stats=True)\n",
       "      (relu): ReLU(inplace=True)\n",
       "      (conv2): Conv2d(64, 64, kernel_size=(3, 3), stride=(1, 1), padding=(1, 1), bias=False)\n",
       "      (bn2): BatchNorm2d(64, eps=1e-05, momentum=0.1, affine=True, track_running_stats=True)\n",
       "    )\n",
       "  )\n",
       "  (layer2): Sequential(\n",
       "    (0): BasicBlock(\n",
       "      (conv1): Conv2d(64, 128, kernel_size=(3, 3), stride=(2, 2), padding=(1, 1), bias=False)\n",
       "      (bn1): BatchNorm2d(128, eps=1e-05, momentum=0.1, affine=True, track_running_stats=True)\n",
       "      (relu): ReLU(inplace=True)\n",
       "      (conv2): Conv2d(128, 128, kernel_size=(3, 3), stride=(1, 1), padding=(1, 1), bias=False)\n",
       "      (bn2): BatchNorm2d(128, eps=1e-05, momentum=0.1, affine=True, track_running_stats=True)\n",
       "      (downsample): Sequential(\n",
       "        (0): Conv2d(64, 128, kernel_size=(1, 1), stride=(2, 2), bias=False)\n",
       "        (1): BatchNorm2d(128, eps=1e-05, momentum=0.1, affine=True, track_running_stats=True)\n",
       "      )\n",
       "    )\n",
       "    (1): BasicBlock(\n",
       "      (conv1): Conv2d(128, 128, kernel_size=(3, 3), stride=(1, 1), padding=(1, 1), bias=False)\n",
       "      (bn1): BatchNorm2d(128, eps=1e-05, momentum=0.1, affine=True, track_running_stats=True)\n",
       "      (relu): ReLU(inplace=True)\n",
       "      (conv2): Conv2d(128, 128, kernel_size=(3, 3), stride=(1, 1), padding=(1, 1), bias=False)\n",
       "      (bn2): BatchNorm2d(128, eps=1e-05, momentum=0.1, affine=True, track_running_stats=True)\n",
       "    )\n",
       "  )\n",
       "  (layer3): Sequential(\n",
       "    (0): BasicBlock(\n",
       "      (conv1): Conv2d(128, 256, kernel_size=(3, 3), stride=(2, 2), padding=(1, 1), bias=False)\n",
       "      (bn1): BatchNorm2d(256, eps=1e-05, momentum=0.1, affine=True, track_running_stats=True)\n",
       "      (relu): ReLU(inplace=True)\n",
       "      (conv2): Conv2d(256, 256, kernel_size=(3, 3), stride=(1, 1), padding=(1, 1), bias=False)\n",
       "      (bn2): BatchNorm2d(256, eps=1e-05, momentum=0.1, affine=True, track_running_stats=True)\n",
       "      (downsample): Sequential(\n",
       "        (0): Conv2d(128, 256, kernel_size=(1, 1), stride=(2, 2), bias=False)\n",
       "        (1): BatchNorm2d(256, eps=1e-05, momentum=0.1, affine=True, track_running_stats=True)\n",
       "      )\n",
       "    )\n",
       "    (1): BasicBlock(\n",
       "      (conv1): Conv2d(256, 256, kernel_size=(3, 3), stride=(1, 1), padding=(1, 1), bias=False)\n",
       "      (bn1): BatchNorm2d(256, eps=1e-05, momentum=0.1, affine=True, track_running_stats=True)\n",
       "      (relu): ReLU(inplace=True)\n",
       "      (conv2): Conv2d(256, 256, kernel_size=(3, 3), stride=(1, 1), padding=(1, 1), bias=False)\n",
       "      (bn2): BatchNorm2d(256, eps=1e-05, momentum=0.1, affine=True, track_running_stats=True)\n",
       "    )\n",
       "  )\n",
       "  (layer4): Sequential(\n",
       "    (0): BasicBlock(\n",
       "      (conv1): Conv2d(256, 512, kernel_size=(3, 3), stride=(2, 2), padding=(1, 1), bias=False)\n",
       "      (bn1): BatchNorm2d(512, eps=1e-05, momentum=0.1, affine=True, track_running_stats=True)\n",
       "      (relu): ReLU(inplace=True)\n",
       "      (conv2): Conv2d(512, 512, kernel_size=(3, 3), stride=(1, 1), padding=(1, 1), bias=False)\n",
       "      (bn2): BatchNorm2d(512, eps=1e-05, momentum=0.1, affine=True, track_running_stats=True)\n",
       "      (downsample): Sequential(\n",
       "        (0): Conv2d(256, 512, kernel_size=(1, 1), stride=(2, 2), bias=False)\n",
       "        (1): BatchNorm2d(512, eps=1e-05, momentum=0.1, affine=True, track_running_stats=True)\n",
       "      )\n",
       "    )\n",
       "    (1): BasicBlock(\n",
       "      (conv1): Conv2d(512, 512, kernel_size=(3, 3), stride=(1, 1), padding=(1, 1), bias=False)\n",
       "      (bn1): BatchNorm2d(512, eps=1e-05, momentum=0.1, affine=True, track_running_stats=True)\n",
       "      (relu): ReLU(inplace=True)\n",
       "      (conv2): Conv2d(512, 512, kernel_size=(3, 3), stride=(1, 1), padding=(1, 1), bias=False)\n",
       "      (bn2): BatchNorm2d(512, eps=1e-05, momentum=0.1, affine=True, track_running_stats=True)\n",
       "    )\n",
       "  )\n",
       "  (avgpool): AdaptiveAvgPool2d(output_size=(1, 1))\n",
       "  (fc): Flatten(start_dim=1, end_dim=-1)\n",
       ")"
      ]
     },
     "execution_count": 3,
     "metadata": {},
     "output_type": "execute_result"
    }
   ],
   "source": [
    "resnet"
   ]
  },
  {
   "cell_type": "code",
   "execution_count": 4,
   "metadata": {
    "id": "PC8OiZ-eCJcC"
   },
   "outputs": [
    {
     "data": {
      "image/png": "[encoded data removed]",
      "text/plain": [
       "<PIL.BmpImagePlugin.BmpImageFile image mode=L size=60x36>"
      ]
     },
     "metadata": {},
     "output_type": "display_data"
    },
    {
     "data": {
      "image/png": "[encoded data removed]",
      "text/plain": [
       "<PIL.BmpImagePlugin.BmpImageFile image mode=L size=60x36>"
      ]
     },
     "metadata": {},
     "output_type": "display_data"
    },
    {
     "data": {
      "image/png": "[encoded data removed]",
      "text/plain": [
       "<PIL.BmpImagePlugin.BmpImageFile image mode=L size=60x36>"
      ]
     },
     "metadata": {},
     "output_type": "display_data"
    },
    {
     "data": {
      "image/png": "[encoded data removed]",
      "text/plain": [
       "<PIL.BmpImagePlugin.BmpImageFile image mode=L size=60x36>"
      ]
     },
     "metadata": {},
     "output_type": "display_data"
    },
    {
     "data": {
      "image/png": "[encoded data removed]",
      "text/plain": [
       "<PIL.BmpImagePlugin.BmpImageFile image mode=L size=60x36>"
      ]
     },
     "metadata": {},
     "output_type": "display_data"
    },
    {
     "data": {
      "image/png": "[encoded data removed]",
      "text/plain": [
       "<PIL.BmpImagePlugin.BmpImageFile image mode=L size=60x36>"
      ]
     },
     "metadata": {},
     "output_type": "display_data"
    },
    {
     "data": {
      "text/plain": [
       "[None, None, None, None, None, None]"
      ]
     },
     "execution_count": 4,
     "metadata": {},
     "output_type": "execute_result"
    }
   ],
   "source": [
    "from zipfile import ZipFile\n",
    "from PIL import Image\n",
    "from glob import glob\n",
    "\n",
    "image_list = []\n",
    "\n",
    "subject_num = 20\n",
    "batch_per_subject = 10\n",
    "\n",
    "subject_list = np.repeat(np.arange(subject_num),batch_per_subject)\n",
    "\n",
    "for data in glob(\"data/s*/synth/00[0-9]_left.zip\"):\n",
    "\n",
    "    with ZipFile(data) as archive:\n",
    "        image_list.append([])\n",
    "        for entry in archive.infolist():\n",
    "            \n",
    "            with archive.open(entry) as file:\n",
    "                img = Image.open(file)\n",
    "                image_list[-1].append(img)\n",
    "                img.load()\n",
    "                \n",
    "list(map(display, image_list[0][-6:]))"
   ]
  },
  {
   "cell_type": "code",
   "execution_count": 5,
   "metadata": {},
   "outputs": [],
   "source": [
    "gaze_list = []\n",
    "\n",
    "for csv_file in glob(\"data/s*/synth/00[0-9]_left.csv\"):\n",
    "    gaze_list.append([])\n",
    "    df = pd.read_csv(csv_file, header=None)\n",
    "    gaze_list[-1].append(df[[0,1,2]].values)\n",
    "\n",
    "gaze_list = np.array(gaze_list)"
   ]
  },
  {
   "cell_type": "code",
   "execution_count": 6,
   "metadata": {},
   "outputs": [
    {
     "data": {
      "text/plain": [
       "device(type='cuda', index=0)"
      ]
     },
     "execution_count": 6,
     "metadata": {},
     "output_type": "execute_result"
    }
   ],
   "source": [
    "device = torch.device(\"cuda:0\" if torch.cuda.is_available() else \"cpu\")\n",
    "resnet = resnet.to(device)\n",
    "device"
   ]
  },
  {
   "cell_type": "code",
   "execution_count": 7,
   "metadata": {
    "id": "Rl7n_dJdGjXb"
   },
   "outputs": [
    {
     "data": {
      "text/plain": [
       "torch.Size([200, 144, 3, 36, 60])"
      ]
     },
     "execution_count": 7,
     "metadata": {},
     "output_type": "execute_result"
    }
   ],
   "source": [
    "\n",
    "transform = transforms.Compose([\n",
    "    transforms.ToTensor(),\n",
    "    transforms.Normalize([0.5], [0.225])\n",
    "])\n",
    "\n",
    "tensor_list = []\n",
    "\n",
    "for image_group in image_list:\n",
    "    image_tensor = [transform(i) for i in image_group]\n",
    "    image_tensor = torch.cat(image_tensor).float()[:,None,...]\n",
    "    image_tensor = image_tensor.repeat(1, 1, 3, 1, 1)\n",
    "    tensor_list.append(image_tensor)\n",
    "    \n",
    "image_tensor = torch.concat(tensor_list)\n",
    "image_tensor.shape"
   ]
  },
  {
   "cell_type": "code",
   "execution_count": 8,
   "metadata": {},
   "outputs": [
    {
     "data": {
      "text/plain": [
       "<matplotlib.image.AxesImage at 0x7f257e12cf70>"
      ]
     },
     "execution_count": 8,
     "metadata": {},
     "output_type": "execute_result"
    },
    {
     "data": {
      "image/png": "[encoded data removed]",
      "text/plain": [
       "<Figure size 640x480 with 1 Axes>"
      ]
     },
     "metadata": {},
     "output_type": "display_data"
    }
   ],
   "source": [
    "plt.imshow(image_tensor[0][0][0])"
   ]
  },
  {
   "cell_type": "code",
   "execution_count": 9,
   "metadata": {},
   "outputs": [
    {
     "data": {
      "text/plain": [
       "torch.Size([200, 144, 3])"
      ]
     },
     "execution_count": 9,
     "metadata": {},
     "output_type": "execute_result"
    }
   ],
   "source": [
    "gaze_tensor = torch.concat([torch.tensor(i) for i in gaze_list]).float()\n",
    "gaze_tensor.shape"
   ]
  },
  {
   "cell_type": "code",
   "execution_count": 10,
   "metadata": {},
   "outputs": [
    {
     "name": "stdout",
     "output_type": "stream",
     "text": [
      "Loss: 9.33440113067627\n",
      "Loss: 3.2306699752807617\n",
      "Loss: 0.8472028970718384\n",
      "Loss: 0.26576197147369385\n",
      "Loss: 0.5216819047927856\n",
      "Loss: 0.10656087845563889\n",
      "Loss: 0.18742473423480988\n",
      "Loss: 0.11015980690717697\n",
      "Loss: 0.09027491509914398\n"
     ]
    }
   ],
   "source": [
    "def pretrain(backbone):\n",
    "    model = nn.Sequential(backbone, nn.Linear(512, 3)).to(device)\n",
    "    model.train()\n",
    "    criterion = nn.MSELoss()\n",
    "    optimizer = torch.optim.Adam(model.parameters())\n",
    "    for epoch in range(1,  10):\n",
    "        optimizer.zero_grad()\n",
    "        for batch, gaze in zip(image_tensor, gaze_tensor):\n",
    "            out = model(batch.to(device))\n",
    "            loss = criterion(out, gaze.to(device))\n",
    "            loss.backward()\n",
    "            optimizer.step()\n",
    "        print(\"Loss:\", float(loss))\n",
    "\n",
    "pretrain(resnet)"
   ]
  },
  {
   "cell_type": "code",
   "execution_count": 11,
   "metadata": {
    "id": "Kul54EqVFxyI"
   },
   "outputs": [],
   "source": [
    "def train(backbone, n_epochs, train_data, train_label, subject_list):\n",
    "    backbone.train()\n",
    "    sigma2 = 1\n",
    "    SIGMA_u = torch.eye(512).to(device)\n",
    "    \n",
    "    fixed_effects = nn.Linear(512, 1, bias=False).to(device)\n",
    "    \n",
    "    criterion = nn.MSELoss()\n",
    "    optimizer = torch.optim.Adam(list(backbone.parameters()) + list(fixed_effects.parameters()))\n",
    "    \n",
    "    # Observation per batch\n",
    "    n_i = train_data.shape[1]\n",
    "    \n",
    "    # Amount of batches\n",
    "    n_batch = train_data.shape[0]\n",
    "    \n",
    "    # Amount of subjects\n",
    "    n_sub = len(np.unique(subject_list))\n",
    "    \n",
    "    # Total of observations\n",
    "    n = n_i * n_batch\n",
    "    \n",
    "    random_effects = [nn.Linear(512, 1, bias=False).to(device) for i in range(n_sub)]\n",
    "    for coeff in random_effects:\n",
    "        coeff.weight.data.fill_(0.0)\n",
    "    \n",
    "    I_n_i = torch.eye(n_i).to(device)\n",
    "    for epoch in range(1, n_epochs + 1):\n",
    "        \n",
    "        # Train gamma & fixed effects\n",
    "        fixed_effects.train()\n",
    "        for i, batch in enumerate(train_data):\n",
    "            optimizer.zero_grad()\n",
    "            subject = subject_list[i]\n",
    "            batch, y_i = batch.to(device), train_label[i].to(device)\n",
    "            Gamma = backbone(batch)\n",
    "            y_i_random = random_effects[subject](Gamma)\n",
    "            y_i_fixed = y_i - y_i_random\n",
    "            loss = criterion(fixed_effects(Gamma), y_i_fixed)\n",
    "            loss.backward()\n",
    "            optimizer.step()\n",
    "            \n",
    "        sigma2_sum = 0\n",
    "        SIGMA_u_sum = 0\n",
    "        backbone.eval()\n",
    "        fixed_effects.eval()\n",
    "        with torch.no_grad():\n",
    "            for i, batch in enumerate(train_data):\n",
    "                batch, y_i = batch.to(device), train_label[i].to(device)\n",
    "\n",
    "                subject = subject_list[i]\n",
    "\n",
    "                # E-Step\n",
    "\n",
    "                Gamma = backbone(batch)\n",
    "                y_i_fixed = fixed_effects(Gamma)\n",
    "\n",
    "                V_i = Gamma @ SIGMA_u @ Gamma.T + (sigma2 * I_n_i)\n",
    "                V_i_inv = torch.inverse(V_i)\n",
    "\n",
    "                # U_i = random_effects.weight\n",
    "                random_effects[subject].weight.data = (SIGMA_u @ Gamma.T @ V_i_inv @ (y_i - y_i_fixed)).T\n",
    "                epsilon_i = y_i - y_i_fixed - random_effects[subject](Gamma)\n",
    "\n",
    "                # M-step\n",
    "                u_i = random_effects[subject].weight.data\n",
    "                sigma2_sum += epsilon_i.T @ epsilon_i + sigma2 * (n_i - sigma2 * torch.trace(V_i_inv))\n",
    "                SIGMA_u_sum += u_i.T @ u_i + (SIGMA_u - SIGMA_u @ Gamma.T @ V_i_inv @ Gamma @ SIGMA_u)\n",
    "\n",
    "            sigma2 = sigma2_sum / n\n",
    "            SIGMA_u = SIGMA_u_sum / n_batch\n",
    "\n",
    "            loss_g = 0.0\n",
    "        \n",
    "            for i, batch in enumerate(train_data):\n",
    "                batch, y_i = batch.to(device), train_label[i].to(device)\n",
    "                subject = subject_list[i]\n",
    "                Gamma = backbone(batch)\n",
    "                y_i_fixed = fixed_effects(Gamma)\n",
    "                y_i_random = random_effects[subject](Gamma)\n",
    "                SIGMA_e = sigma2 * I_n_i\n",
    "                u_i = random_effects[subject].weight.data.T\n",
    "                error = y_i - y_i_fixed - y_i_random\n",
    "\n",
    "                loss_g += float(error.T @ torch.inverse(SIGMA_e) @ error\\\n",
    "                         + u_i.T @ torch.inverse(SIGMA_u) @ u_i \\\n",
    "                         + torch.det(SIGMA_e) + torch.det(SIGMA_u))\n",
    "        \n",
    "        print(\"Epoch:\", epoch, \"LA LOSS ELLE VÔ\", loss_g/n)\n",
    "    \n",
    "    return fixed_effects, random_effects"
   ]
  },
  {
   "cell_type": "code",
   "execution_count": 12,
   "metadata": {},
   "outputs": [],
   "source": [
    "def random_effect_estimation(backbone, random_effects, train_data, subject_list):\n",
    "    # backbone -> random_effects\n",
    "    h = nn.Linear(512,1).to(device)\n",
    "    h.train()\n",
    "    backbone.eval()\n",
    "    criterion = nn.MSELoss()\n",
    "    optimizer = torch.optim.Adam(h.parameters())\n",
    "    for epoch in range(5):\n",
    "        for i, batch in enumerate(train_data):\n",
    "            subject = subject_list[i]\n",
    "            \n",
    "            with torch.no_grad():\n",
    "                X = backbone(batch.to(device))\n",
    "                y = random_effects[subject](X)\n",
    "            \n",
    "            loss = criterion(h(X), y)\n",
    "            loss.backward()\n",
    "            optimizer.step()\n",
    "    h.eval()\n",
    "    return h"
   ]
  },
  {
   "cell_type": "code",
   "execution_count": 13,
   "metadata": {},
   "outputs": [],
   "source": [
    "# Returns the angle between the two vectors\n",
    "def angular_difference(truth_batch, pred_batch):\n",
    "    diff = 0\n",
    "    for truth, pred in zip(truth_batch, pred_batch):\n",
    "        angle_val = torch.dot(pred, truth)\n",
    "        angle_val = max(min(angle_val, 1), -1)\n",
    "        diff += np.arccos(angle_val) * 180 / np.pi\n",
    "    return diff / truth_batch.shape[0]"
   ]
  },
  {
   "cell_type": "code",
   "execution_count": 14,
   "metadata": {},
   "outputs": [],
   "source": [
    "def cross_validation(backbone, image_tensor, gaze_tensor, fold = 3):\n",
    "    \n",
    "    n = gaze_tensor.shape[0] // fold * (fold-1)\n",
    "    g_train = lambda x : gaze_tensor[:n, :, x, None]\n",
    "    g_test = lambda x : gaze_tensor[n:, :, x, None]\n",
    "    \n",
    "    im_train = image_tensor[:n]\n",
    "    im_test = image_tensor[n:]\n",
    "    \n",
    "    fixed_effects, random_effects = zip(*[train(backbone, 1, im_train, g_train(i), subject_list[:n]) for i in range(3)])\n",
    "    \n",
    "    backbone.eval()\n",
    "    h = [random_effect_estimation(resnet, random_effects[i], im_train, subject_list[:n]) for i in range(3)]\n",
    "    \n",
    "    total_loss = 0.0\n",
    "    \n",
    "    with torch.no_grad():\n",
    "        predict = torch.zeros(144, 3)\n",
    "        for i, test in enumerate(im_test):\n",
    "            Gamma = backbone(test.to(device))\n",
    "            loss = 0.0\n",
    "            \n",
    "            truth = gaze_tensor[n:][i]\n",
    "            for j in range(3):\n",
    "                predict[:, j] = (fixed_effects[j](Gamma).cpu() + h[j](Gamma).cpu())[0]\n",
    "                \n",
    "            total_loss += angular_difference(truth, predict)\n",
    "    return float(total_loss / im_test.shape[0])\n",
    "        "
   ]
  },
  {
   "cell_type": "code",
   "execution_count": 15,
   "metadata": {},
   "outputs": [
    {
     "name": "stdout",
     "output_type": "stream",
     "text": [
      "Epoch: 1 LA LOSS ELLE VÔ 1.6881727750855262\n",
      "Epoch: 1 LA LOSS ELLE VÔ 1.2126080456255661\n",
      "Epoch: 1 LA LOSS ELLE VÔ 0.333955050568388\n"
     ]
    },
    {
     "data": {
      "text/plain": [
       "13.205401420593262"
      ]
     },
     "execution_count": 15,
     "metadata": {},
     "output_type": "execute_result"
    }
   ],
   "source": [
    "torch.cuda.empty_cache()\n",
    "cross_validation(resnet, image_tensor, gaze_tensor)"
   ]
  },
  {
   "cell_type": "code",
   "execution_count": 16,
   "metadata": {},
   "outputs": [],
   "source": [
    "def cross_validation_simple(backbone, image_tensor, gaze_tensor, fold = 3):\n",
    "    \n",
    "    n = gaze_tensor.shape[0] // fold * (fold-1)\n",
    "    g_train = gaze_tensor[:n, :, :, None]\n",
    "    g_test = gaze_tensor[n:, :, :, None]\n",
    "    \n",
    "    im_train = image_tensor[:n]\n",
    "    im_test = image_tensor[n:]\n",
    "    \n",
    "    model = nn.Sequential(backbone, nn.Linear(512, 3)).to(device)\n",
    "    backbone.train()\n",
    "    model.train()\n",
    "    criterion = nn.MSELoss()\n",
    "    optimizer = torch.optim.Adam(model.parameters())\n",
    "    for epoch in range(1,  10):\n",
    "        optimizer.zero_grad()\n",
    "        for batch, gaze in zip(im_train, gaze_tensor):\n",
    "            out = model(batch.to(device))\n",
    "            loss = criterion(out, gaze.to(device))\n",
    "            loss.backward()\n",
    "            optimizer.step()\n",
    "    \n",
    "    total_loss = 0.0\n",
    "    backbone.eval()\n",
    "    model.eval()\n",
    "    \n",
    "    with torch.no_grad():\n",
    "        predict = torch.zeros(144, 3)\n",
    "        for i, test in enumerate(im_test):\n",
    "            predict = model(test.to(device)).cpu()\n",
    "            \n",
    "            truth = gaze_tensor[n:][i]\n",
    "            total_loss += angular_difference(truth, predict)\n",
    "    return float(total_loss / im_test.shape[0])"
   ]
  },
  {
   "cell_type": "code",
   "execution_count": 17,
   "metadata": {},
   "outputs": [
    {
     "data": {
      "text/plain": [
       "45.04079055786133"
      ]
     },
     "execution_count": 17,
     "metadata": {},
     "output_type": "execute_result"
    }
   ],
   "source": [
    "torch.cuda.empty_cache()\n",
    "cross_validation_simple(resnet, image_tensor, gaze_tensor)"
   ]
  },
  {
   "cell_type": "code",
   "execution_count": null,
   "metadata": {},
   "outputs": [],
   "source": []
  }
 ],
 "metadata": {
  "accelerator": "GPU",
  "colab": {
   "collapsed_sections": [],
   "provenance": []
  },
  "kernelspec": {
   "display_name": "Python 3 (ipykernel)",
   "language": "python",
   "name": "python3"
  },
  "language_info": {
   "codemirror_mode": {
    "name": "ipython",
    "version": 3
   },
   "file_extension": ".py",
   "mimetype": "text/x-python",
   "name": "python",
   "nbconvert_exporter": "python",
   "pygments_lexer": "ipython3",
   "version": "3.10.8"
  },
  "widgets": {
   "application/vnd.jupyter.widget-state+json": {
    "0197510d32d8444daf52863f1a6a0540": {
     "model_module": "@jupyter-widgets/controls",
     "model_module_version": "1.5.0",
     "model_name": "DescriptionStyleModel",
     "state": {
      "_model_module": "@jupyter-widgets/controls",
      "_model_module_version": "1.5.0",
      "_model_name": "DescriptionStyleModel",
      "_view_count": null,
      "_view_module": "@jupyter-widgets/base",
      "_view_module_version": "1.2.0",
      "_view_name": "StyleView",
      "description_width": ""
     }
    },
    "0909ed83c6b9416f918724814b67ad68": {
     "model_module": "@jupyter-widgets/controls",
     "model_module_version": "1.5.0",
     "model_name": "HBoxModel",
     "state": {
      "_dom_classes": [],
      "_model_module": "@jupyter-widgets/controls",
      "_model_module_version": "1.5.0",
      "_model_name": "HBoxModel",
      "_view_count": null,
      "_view_module": "@jupyter-widgets/controls",
      "_view_module_version": "1.5.0",
      "_view_name": "HBoxView",
      "box_style": "",
      "children": [
       "IPY_MODEL_688d13f8cef44f7ab467d47a4257b2b5",
       "IPY_MODEL_b7dde7790e5b42108bfa918b8e5f3cd1",
       "IPY_MODEL_f18caa6894ba4637b405cac783864b24"
      ],
      "layout": "IPY_MODEL_bc81772c921344488a4f7e3369b28edc"
     }
    },
    "3acc9a6acad248b1b7a42ea8ba74549c": {
     "model_module": "@jupyter-widgets/base",
     "model_module_version": "1.2.0",
     "model_name": "LayoutModel",
     "state": {
      "_model_module": "@jupyter-widgets/base",
      "_model_module_version": "1.2.0",
      "_model_name": "LayoutModel",
      "_view_count": null,
      "_view_module": "@jupyter-widgets/base",
      "_view_module_version": "1.2.0",
      "_view_name": "LayoutView",
      "align_content": null,
      "align_items": null,
      "align_self": null,
      "border": null,
      "bottom": null,
      "display": null,
      "flex": null,
      "flex_flow": null,
      "grid_area": null,
      "grid_auto_columns": null,
      "grid_auto_flow": null,
      "grid_auto_rows": null,
      "grid_column": null,
      "grid_gap": null,
      "grid_row": null,
      "grid_template_areas": null,
      "grid_template_columns": null,
      "grid_template_rows": null,
      "height": null,
      "justify_content": null,
      "justify_items": null,
      "left": null,
      "margin": null,
      "max_height": null,
      "max_width": null,
      "min_height": null,
      "min_width": null,
      "object_fit": null,
      "object_position": null,
      "order": null,
      "overflow": null,
      "overflow_x": null,
      "overflow_y": null,
      "padding": null,
      "right": null,
      "top": null,
      "visibility": null,
      "width": null
     }
    },
    "43a101b14b654c5c880f12f5bf86fdec": {
     "model_module": "@jupyter-widgets/controls",
     "model_module_version": "1.5.0",
     "model_name": "ProgressStyleModel",
     "state": {
      "_model_module": "@jupyter-widgets/controls",
      "_model_module_version": "1.5.0",
      "_model_name": "ProgressStyleModel",
      "_view_count": null,
      "_view_module": "@jupyter-widgets/base",
      "_view_module_version": "1.2.0",
      "_view_name": "StyleView",
      "bar_color": null,
      "description_width": ""
     }
    },
    "480332fb4c4e4186849a07586eed30f1": {
     "model_module": "@jupyter-widgets/base",
     "model_module_version": "1.2.0",
     "model_name": "LayoutModel",
     "state": {
      "_model_module": "@jupyter-widgets/base",
      "_model_module_version": "1.2.0",
      "_model_name": "LayoutModel",
      "_view_count": null,
      "_view_module": "@jupyter-widgets/base",
      "_view_module_version": "1.2.0",
      "_view_name": "LayoutView",
      "align_content": null,
      "align_items": null,
      "align_self": null,
      "border": null,
      "bottom": null,
      "display": null,
      "flex": null,
      "flex_flow": null,
      "grid_area": null,
      "grid_auto_columns": null,
      "grid_auto_flow": null,
      "grid_auto_rows": null,
      "grid_column": null,
      "grid_gap": null,
      "grid_row": null,
      "grid_template_areas": null,
      "grid_template_columns": null,
      "grid_template_rows": null,
      "height": null,
      "justify_content": null,
      "justify_items": null,
      "left": null,
      "margin": null,
      "max_height": null,
      "max_width": null,
      "min_height": null,
      "min_width": null,
      "object_fit": null,
      "object_position": null,
      "order": null,
      "overflow": null,
      "overflow_x": null,
      "overflow_y": null,
      "padding": null,
      "right": null,
      "top": null,
      "visibility": null,
      "width": null
     }
    },
    "688d13f8cef44f7ab467d47a4257b2b5": {
     "model_module": "@jupyter-widgets/controls",
     "model_module_version": "1.5.0",
     "model_name": "HTMLModel",
     "state": {
      "_dom_classes": [],
      "_model_module": "@jupyter-widgets/controls",
      "_model_module_version": "1.5.0",
      "_model_name": "HTMLModel",
      "_view_count": null,
      "_view_module": "@jupyter-widgets/controls",
      "_view_module_version": "1.5.0",
      "_view_name": "HTMLView",
      "description": "",
      "description_tooltip": null,
      "layout": "IPY_MODEL_907396e021f549a39249299d85a32d1f",
      "placeholder": "​",
      "style": "IPY_MODEL_b798b3eb0a4c48f3a02196f925a44819",
      "value": "100%"
     }
    },
    "907396e021f549a39249299d85a32d1f": {
     "model_module": "@jupyter-widgets/base",
     "model_module_version": "1.2.0",
     "model_name": "LayoutModel",
     "state": {
      "_model_module": "@jupyter-widgets/base",
      "_model_module_version": "1.2.0",
      "_model_name": "LayoutModel",
      "_view_count": null,
      "_view_module": "@jupyter-widgets/base",
      "_view_module_version": "1.2.0",
      "_view_name": "LayoutView",
      "align_content": null,
      "align_items": null,
      "align_self": null,
      "border": null,
      "bottom": null,
      "display": null,
      "flex": null,
      "flex_flow": null,
      "grid_area": null,
      "grid_auto_columns": null,
      "grid_auto_flow": null,
      "grid_auto_rows": null,
      "grid_column": null,
      "grid_gap": null,
      "grid_row": null,
      "grid_template_areas": null,
      "grid_template_columns": null,
      "grid_template_rows": null,
      "height": null,
      "justify_content": null,
      "justify_items": null,
      "left": null,
      "margin": null,
      "max_height": null,
      "max_width": null,
      "min_height": null,
      "min_width": null,
      "object_fit": null,
      "object_position": null,
      "order": null,
      "overflow": null,
      "overflow_x": null,
      "overflow_y": null,
      "padding": null,
      "right": null,
      "top": null,
      "visibility": null,
      "width": null
     }
    },
    "b798b3eb0a4c48f3a02196f925a44819": {
     "model_module": "@jupyter-widgets/controls",
     "model_module_version": "1.5.0",
     "model_name": "DescriptionStyleModel",
     "state": {
      "_model_module": "@jupyter-widgets/controls",
      "_model_module_version": "1.5.0",
      "_model_name": "DescriptionStyleModel",
      "_view_count": null,
      "_view_module": "@jupyter-widgets/base",
      "_view_module_version": "1.2.0",
      "_view_name": "StyleView",
      "description_width": ""
     }
    },
    "b7dde7790e5b42108bfa918b8e5f3cd1": {
     "model_module": "@jupyter-widgets/controls",
     "model_module_version": "1.5.0",
     "model_name": "FloatProgressModel",
     "state": {
      "_dom_classes": [],
      "_model_module": "@jupyter-widgets/controls",
      "_model_module_version": "1.5.0",
      "_model_name": "FloatProgressModel",
      "_view_count": null,
      "_view_module": "@jupyter-widgets/controls",
      "_view_module_version": "1.5.0",
      "_view_name": "ProgressView",
      "bar_style": "success",
      "description": "",
      "description_tooltip": null,
      "layout": "IPY_MODEL_3acc9a6acad248b1b7a42ea8ba74549c",
      "max": 46830571,
      "min": 0,
      "orientation": "horizontal",
      "style": "IPY_MODEL_43a101b14b654c5c880f12f5bf86fdec",
      "value": 46830571
     }
    },
    "bc81772c921344488a4f7e3369b28edc": {
     "model_module": "@jupyter-widgets/base",
     "model_module_version": "1.2.0",
     "model_name": "LayoutModel",
     "state": {
      "_model_module": "@jupyter-widgets/base",
      "_model_module_version": "1.2.0",
      "_model_name": "LayoutModel",
      "_view_count": null,
      "_view_module": "@jupyter-widgets/base",
      "_view_module_version": "1.2.0",
      "_view_name": "LayoutView",
      "align_content": null,
      "align_items": null,
      "align_self": null,
      "border": null,
      "bottom": null,
      "display": null,
      "flex": null,
      "flex_flow": null,
      "grid_area": null,
      "grid_auto_columns": null,
      "grid_auto_flow": null,
      "grid_auto_rows": null,
      "grid_column": null,
      "grid_gap": null,
      "grid_row": null,
      "grid_template_areas": null,
      "grid_template_columns": null,
      "grid_template_rows": null,
      "height": null,
      "justify_content": null,
      "justify_items": null,
      "left": null,
      "margin": null,
      "max_height": null,
      "max_width": null,
      "min_height": null,
      "min_width": null,
      "object_fit": null,
      "object_position": null,
      "order": null,
      "overflow": null,
      "overflow_x": null,
      "overflow_y": null,
      "padding": null,
      "right": null,
      "top": null,
      "visibility": null,
      "width": null
     }
    },
    "f18caa6894ba4637b405cac783864b24": {
     "model_module": "@jupyter-widgets/controls",
     "model_module_version": "1.5.0",
     "model_name": "HTMLModel",
     "state": {
      "_dom_classes": [],
      "_model_module": "@jupyter-widgets/controls",
      "_model_module_version": "1.5.0",
      "_model_name": "HTMLModel",
      "_view_count": null,
      "_view_module": "@jupyter-widgets/controls",
      "_view_module_version": "1.5.0",
      "_view_name": "HTMLView",
      "description": "",
      "description_tooltip": null,
      "layout": "IPY_MODEL_480332fb4c4e4186849a07586eed30f1",
      "placeholder": "​",
      "style": "IPY_MODEL_0197510d32d8444daf52863f1a6a0540",
      "value": " 44.7M/44.7M [00:00&lt;00:00, 213MB/s]"
     }
    }
   }
  }
 },
 "nbformat": 4,
 "nbformat_minor": 1
}
